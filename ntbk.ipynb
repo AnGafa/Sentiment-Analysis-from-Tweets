{
 "cells": [
  {
   "cell_type": "code",
   "execution_count": 2,
   "metadata": {},
   "outputs": [
    {
     "data": {
      "text/html": [
       "<style type=\"text/css\">\n",
       "</style>\n",
       "<table id=\"T_005bf\">\n",
       "  <thead>\n",
       "    <tr>\n",
       "      <th class=\"blank level0\" >&nbsp;</th>\n",
       "      <th id=\"T_005bf_level0_col0\" class=\"col_heading level0 col0\" >created_at</th>\n",
       "      <th id=\"T_005bf_level0_col1\" class=\"col_heading level0 col1\" >text</th>\n",
       "      <th id=\"T_005bf_level0_col2\" class=\"col_heading level0 col2\" >location</th>\n",
       "    </tr>\n",
       "  </thead>\n",
       "  <tbody>\n",
       "    <tr>\n",
       "      <th id=\"T_005bf_level0_row0\" class=\"row_heading level0 row0\" >0</th>\n",
       "      <td id=\"T_005bf_row0_col0\" class=\"data row0 col0\" >2022-10-07 22:25:52+00:00</td>\n",
       "      <td id=\"T_005bf_row0_col1\" class=\"data row0 col1\" >RT @delcyrodriguezv: 3/4 A 893 días de la #COVID19 en nuestro país, estas son sus estadísticas generales:\n",
       "\n",
       "- Total de contagios: 541.906\n",
       "-…</td>\n",
       "      <td id=\"T_005bf_row0_col2\" class=\"data row0 col2\" >None</td>\n",
       "    </tr>\n",
       "    <tr>\n",
       "      <th id=\"T_005bf_level0_row1\" class=\"row_heading level0 row1\" >1</th>\n",
       "      <td id=\"T_005bf_row1_col0\" class=\"data row1 col0\" >2022-10-07 22:25:51+00:00</td>\n",
       "      <td id=\"T_005bf_row1_col1\" class=\"data row1 col1\" >RT @Cindy_Banyai_FL: Want an inside look at the multiple ways DeSantis and the GOP failed Florida during #COVID19? Listen to my podcast wit…</td>\n",
       "      <td id=\"T_005bf_row1_col2\" class=\"data row1 col2\" >USA</td>\n",
       "    </tr>\n",
       "    <tr>\n",
       "      <th id=\"T_005bf_level0_row2\" class=\"row_heading level0 row2\" >2</th>\n",
       "      <td id=\"T_005bf_row2_col0\" class=\"data row2 col0\" >2022-10-07 22:25:50+00:00</td>\n",
       "      <td id=\"T_005bf_row2_col1\" class=\"data row2 col1\" >RT @KrutikaKuppalli: Yes there is #COVID19 #Monkeypox #Ebola #Hurricanes #Cholera and many other emergencies but please don’t forget about…</td>\n",
       "      <td id=\"T_005bf_row2_col2\" class=\"data row2 col2\" >None</td>\n",
       "    </tr>\n",
       "    <tr>\n",
       "      <th id=\"T_005bf_level0_row3\" class=\"row_heading level0 row3\" >3</th>\n",
       "      <td id=\"T_005bf_row3_col0\" class=\"data row3 col0\" >2022-10-07 22:25:49+00:00</td>\n",
       "      <td id=\"T_005bf_row3_col1\" class=\"data row3 col1\" >RT @Billius27: NEW major retrospective US EHR study (preprint) finds vaccination reduces #LongCovid risk by 30-38%. Large cohorts of US adu…</td>\n",
       "      <td id=\"T_005bf_row3_col2\" class=\"data row3 col2\" >Niagara, Ontario</td>\n",
       "    </tr>\n",
       "    <tr>\n",
       "      <th id=\"T_005bf_level0_row4\" class=\"row_heading level0 row4\" >4</th>\n",
       "      <td id=\"T_005bf_row4_col0\" class=\"data row4 col0\" >2022-10-07 22:25:48+00:00</td>\n",
       "      <td id=\"T_005bf_row4_col1\" class=\"data row4 col1\" >RT @DoencaProf: Anyone else been practicing their shock faces in the mirror for when the next COVID wave hits?  I call my look the “who cou…</td>\n",
       "      <td id=\"T_005bf_row4_col2\" class=\"data row4 col2\" >New South Wales, Australia</td>\n",
       "    </tr>\n",
       "    <tr>\n",
       "      <th id=\"T_005bf_level0_row5\" class=\"row_heading level0 row5\" >5</th>\n",
       "      <td id=\"T_005bf_row5_col0\" class=\"data row5 col0\" >2022-10-07 22:25:45+00:00</td>\n",
       "      <td id=\"T_005bf_row5_col1\" class=\"data row5 col1\" >RT @KrutikaKuppalli: Yes there is #COVID19 #Monkeypox #Ebola #Hurricanes #Cholera and many other emergencies but please don’t forget about…</td>\n",
       "      <td id=\"T_005bf_row5_col2\" class=\"data row5 col2\" >None</td>\n",
       "    </tr>\n",
       "    <tr>\n",
       "      <th id=\"T_005bf_level0_row6\" class=\"row_heading level0 row6\" >6</th>\n",
       "      <td id=\"T_005bf_row6_col0\" class=\"data row6 col0\" >2022-10-07 22:25:38+00:00</td>\n",
       "      <td id=\"T_005bf_row6_col1\" class=\"data row6 col1\" >RT @News5PH: #FrontlineTonight | Base sa Order No. 39 ng Department of Education, babayaran pa rin ang mga gurong hindi makakapagtrabaho da…</td>\n",
       "      <td id=\"T_005bf_row6_col2\" class=\"data row6 col2\" >Antipolo City, Calabarzon</td>\n",
       "    </tr>\n",
       "    <tr>\n",
       "      <th id=\"T_005bf_level0_row7\" class=\"row_heading level0 row7\" >7</th>\n",
       "      <td id=\"T_005bf_row7_col0\" class=\"data row7 col0\" >2022-10-07 22:25:35+00:00</td>\n",
       "      <td id=\"T_005bf_row7_col1\" class=\"data row7 col1\" >RT @delcyrodriguezv: 1/4 La Comisión Presidencial para la Prevención, Atención y Control de la #COVID19 informa al pueblo de Venezuela que…</td>\n",
       "      <td id=\"T_005bf_row7_col2\" class=\"data row7 col2\" >Canada</td>\n",
       "    </tr>\n",
       "    <tr>\n",
       "      <th id=\"T_005bf_level0_row8\" class=\"row_heading level0 row8\" >8</th>\n",
       "      <td id=\"T_005bf_row8_col0\" class=\"data row8 col0\" >2022-10-07 22:25:33+00:00</td>\n",
       "      <td id=\"T_005bf_row8_col1\" class=\"data row8 col1\" >RT @Billius27: Ontario ended this September with 326 reported covid deaths compared to 220 last year. There were 135 deaths reported last O…</td>\n",
       "      <td id=\"T_005bf_row8_col2\" class=\"data row8 col2\" >Woiworung Country. Melbourne</td>\n",
       "    </tr>\n",
       "  </tbody>\n",
       "</table>\n"
      ],
      "text/plain": [
       "<pandas.io.formats.style.Styler at 0x1857f8d0e20>"
      ]
     },
     "execution_count": 2,
     "metadata": {},
     "output_type": "execute_result"
    }
   ],
   "source": [
    "import tweepy\n",
    "import pandas as pd\n",
    "\n",
    "MY_BEARER_TOKEN = \"AAAAAAAAAAAAAAAAAAAAACEJdQEAAAAAn46jK245CVhivj93b3u64JGruUI%3DizWUCREtvBIl8J9ptzwZdTZ9l6C6wXz2W0rvh8qd6fKrxLD82o\"\n",
    "\n",
    "client = tweepy.Client(bearer_token=MY_BEARER_TOKEN)\n",
    "search_query = \"#covid19\"\n",
    "\n",
    "start_time = \"2021-12-10T00:00:00Z\"\n",
    "\n",
    "tweets = client.search_recent_tweets(query=search_query,\n",
    "                                        max_results = 10,\n",
    "                                        expansions=\"author_id\",\n",
    "                                        tweet_fields = [\"author_id\", \"created_at\", \"text\"],\n",
    "                                        user_fields = [\"id\", \"location\"])\n",
    "\n",
    "tweet_info_ls = []\n",
    "\n",
    "for tweet, user in zip(tweets.data, tweets.includes['users']):\n",
    "    tweet_info = {\n",
    "        'created_at': tweet.created_at,\n",
    "        'text': tweet.text,\n",
    "        'location': user.location,\n",
    "    }\n",
    "    tweet_info_ls.append(tweet_info)\n",
    "\n",
    "tweets_df = pd.DataFrame(tweet_info_ls)\n",
    "\n",
    "tweets_df.style"
   ]
  }
 ],
 "metadata": {
  "kernelspec": {
   "display_name": "Python 3.10.7 64-bit (microsoft store)",
   "language": "python",
   "name": "python3"
  },
  "language_info": {
   "codemirror_mode": {
    "name": "ipython",
    "version": 3
   },
   "file_extension": ".py",
   "mimetype": "text/x-python",
   "name": "python",
   "nbconvert_exporter": "python",
   "pygments_lexer": "ipython3",
   "version": "3.10.8"
  },
  "orig_nbformat": 4,
  "vscode": {
   "interpreter": {
    "hash": "624741679a3ae5d99cecf49b8df5d516a7a937e6e7328e129d1fa121c8592e26"
   }
  }
 },
 "nbformat": 4,
 "nbformat_minor": 2
}
