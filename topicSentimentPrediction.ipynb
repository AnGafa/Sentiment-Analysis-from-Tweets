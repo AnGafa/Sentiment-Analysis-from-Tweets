{
 "cells": [
  {
   "cell_type": "code",
   "execution_count": null,
   "metadata": {},
   "outputs": [],
   "source": [
    "from gensim.similarities import SparseTermSimilarityMatrix, WordEmbeddingSimilarityIndex\n",
    "import gensim.downloader as api\n",
    "from gensim.corpora import Dictionary\n",
    "from gensim.models import KeyedVectors\n",
    "from gensim.models import TfidfModel\n",
    "from gensim.similarities import SoftCosineSimilarity\n",
    "import pandas as pd\n",
    "\n",
    "user = \"1DB29AD5-A062-ED11-B67D-D85ED3AE4DFE\"\n",
    "\n",
    "df = pd.read_csv('./results4.csv')\n",
    "df.columns = ['id', 'text', 'modText', 'sentiment', 'topics', 'hashtags']\n",
    "\n",
    "for i in range(0, len(df)):\n",
    "    df['topics'][i] = df['topics'][i].replace(\"'',\", \"\")\n",
    "df['topics'] = df['topics'].apply(lambda x: x[1:-1].split(', '))\n",
    "\n",
    "userDF = pd.DataFrame(columns=['id', 'topics',])\n",
    "userDF.id = df.id.unique()\n",
    "#add all unique topics to userDF by id unless it is empty\n",
    "for i in range(0, len(userDF)):\n",
    "    userDF['topics'][i] = df[df['id'] == userDF['id'][i]]['topics'].sum()\n",
    "    userDF['topics'][i] = [x for x in userDF['topics'][i] if x != \"\\'\\'\"]\n",
    "\n",
    "#for each topic add sentiment based on mean of sentiment of the user's tweets with that topic\n",
    "for i in range(0, len(userDF)):\n",
    "    for j in range(0, len(userDF['topics'][i])):\n",
    "        userDF['topics'][i][j] = userDF['topics'][i][j] + str((df[(df['id'] == userDF['id'][i]) & (df['topics'].apply(lambda x: userDF['topics'][i][j] in x))]['sentiment'].mean()).round(2))\n",
    "\n",
    "#using soft cosine similarity return 10 most similar users to a given user\n",
    "fasttext_model300 = api.load('fasttext-wiki-news-subwords-300')\n",
    "documents = userDF['topics']\n",
    "dictionary = Dictionary(documents)\n",
    "bow_corpus = [dictionary.doc2bow(doc) for doc in documents]\n",
    "index = WordEmbeddingSimilarityIndex(fasttext_model300)\n",
    "sims = SparseTermSimilarityMatrix(index, dictionary)\n",
    "model = SoftCosineSimilarity(bow_corpus, sims, num_best=10)\n",
    "\n",
    "def get_recommendations(id):\n",
    "    idx = userDF.index[userDF['id'] == id][0]\n",
    "    query = userDF['topics'][idx]\n",
    "    query = dictionary.doc2bow(query)\n",
    "    return model[query]\n",
    "\n",
    "#get closest users to the given user to predict sentiment towards a topic\n",
    "results = get_recommendations(user)\n",
    "\n",
    "#only use users with a distance of less than 0.5\n",
    "results = [x for x in results if x[1] < 0.3]\n",
    "\n",
    "#get the most common topic for these users which the given user has not tweeted about\n",
    "topic = max([x for y in results for x in userDF['topics'][y[0]]], key = userDF['topics'][y[0]].count)\n",
    "\n",
    "#predict sentiment towards this topic using the mean sentiment of the closest users tweets with this topic\n",
    "meanSentiment = df[(df['id'].isin([userDF['id'][x[0]] for x in results])) & (df['topics'].apply(lambda x: topic in x))]['sentiment'].mean()"
   ]
  }
 ],
 "metadata": {
  "kernelspec": {
   "display_name": "Python 3",
   "language": "python",
   "name": "python3"
  },
  "language_info": {
   "name": "python",
   "version": "3.10.10"
  },
  "orig_nbformat": 4,
  "vscode": {
   "interpreter": {
    "hash": "86788393008fdb71dc79f29fdb41a6ff8baa293129381eaf3410cddb465d7ab5"
   }
  }
 },
 "nbformat": 4,
 "nbformat_minor": 2
}
