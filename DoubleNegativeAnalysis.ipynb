{
 "cells": [
  {
   "cell_type": "code",
   "execution_count": 3,
   "metadata": {},
   "outputs": [
    {
     "name": "stderr",
     "output_type": "stream",
     "text": [
      "C:\\Users\\andre\\AppData\\Local\\Temp\\ipykernel_17648\\1786680353.py:33: SettingWithCopyWarning: \n",
      "A value is trying to be set on a copy of a slice from a DataFrame\n",
      "\n",
      "See the caveats in the documentation: https://pandas.pydata.org/pandas-docs/stable/user_guide/indexing.html#returning-a-view-versus-a-copy\n",
      "  df['topics'][i] = df['topics'][i].replace(\"'',\", \"\")\n"
     ]
    }
   ],
   "source": [
    "import pyodbc\n",
    "import pandas as pd\n",
    "from sqlalchemy.engine import URL\n",
    "from sqlalchemy import create_engine\n",
    "from sklearn.feature_extraction.text import CountVectorizer\n",
    "import re\n",
    "import pandas as pd \n",
    "import numpy as np \n",
    "import matplotlib.pyplot as plt \n",
    "import seaborn as sns\n",
    "import string\n",
    "import nltk\n",
    "from nltk.corpus import stopwords\n",
    "from nltk import PorterStemmer\n",
    "from sklearn.model_selection import train_test_split\n",
    "from sklearn.metrics import accuracy_score\n",
    "from sklearn import tree\n",
    "from sklearn import preprocessing\n",
    "from sklearn.preprocessing import OneHotEncoder\n",
    "from sklearn.model_selection import GridSearchCV\n",
    "import pickle\n",
    "\n",
    "df = pd.read_csv('./results4.csv')\n",
    "df.columns = ['id', 'text', 'modText', 'sentiment', 'topics', 'hashtags']\n",
    "\n",
    "negatives = ['not', 'no', 'nor', \"won't\", \"wouldn't\", \"shouldn't\", \"couldn't\", 'against', \"aren't\", \"haven't\", \"hasn't\", \"doesn't\", \"isn't\", \"don't\"]\n",
    "\n",
    "#tokenize text and lowercase\n",
    "df['tokText'] = df['text'].apply(lambda x: x.split())\n",
    "df['tokText'] = df['tokText'].apply(lambda x: [y.lower() for y in x])\n",
    "\n",
    "for i in range(0, len(df)):\n",
    "    df['topics'][i] = df['topics'][i].replace(\"'',\", \"\")\n",
    "df['topics'] = df['topics'].apply(lambda x: x[1:-1].split(', '))\n",
    "\n",
    "selectedIndex = []\n",
    "#if text has 2 or more negative words, add index to selectedIndex\n",
    "for i in range(0, len(df)):\n",
    "    count = 0\n",
    "    for word in df['tokText'][i]:\n",
    "        if word in negatives:\n",
    "            count += 1\n",
    "    if count >= 2:\n",
    "        selectedIndex.append(i)"
   ]
  },
  {
   "cell_type": "code",
   "execution_count": 2,
   "metadata": {},
   "outputs": [
    {
     "ename": "KeyboardInterrupt",
     "evalue": "",
     "output_type": "error",
     "traceback": [
      "\u001b[1;31m---------------------------------------------------------------------------\u001b[0m",
      "\u001b[1;31mKeyboardInterrupt\u001b[0m                         Traceback (most recent call last)",
      "\u001b[1;32mc:\\Users\\andre\\Documents\\GitHub\\Sntiment-Analysis-from-Tweets\\DoubleNegativeAnalysis.ipynb Cell 2\u001b[0m in \u001b[0;36m<cell line: 37>\u001b[1;34m()\u001b[0m\n\u001b[0;32m     <a href='vscode-notebook-cell:/c%3A/Users/andre/Documents/GitHub/Sntiment-Analysis-from-Tweets/DoubleNegativeAnalysis.ipynb#W1sZmlsZQ%3D%3D?line=33'>34</a>\u001b[0m userDF[\u001b[39m'\u001b[39m\u001b[39mtopicsRaw\u001b[39m\u001b[39m'\u001b[39m] \u001b[39m=\u001b[39m userDF[\u001b[39m'\u001b[39m\u001b[39mtopicsRaw\u001b[39m\u001b[39m'\u001b[39m]\u001b[39m.\u001b[39mapply(\u001b[39mlambda\u001b[39;00m x: x[\u001b[39m1\u001b[39m:\u001b[39m-\u001b[39m\u001b[39m1\u001b[39m]\u001b[39m.\u001b[39msplit(\u001b[39m'\u001b[39m\u001b[39m, \u001b[39m\u001b[39m'\u001b[39m))\n\u001b[0;32m     <a href='vscode-notebook-cell:/c%3A/Users/andre/Documents/GitHub/Sntiment-Analysis-from-Tweets/DoubleNegativeAnalysis.ipynb#W1sZmlsZQ%3D%3D?line=35'>36</a>\u001b[0m \u001b[39m#using soft cosine similarity return 10 most similar users to a given user\u001b[39;00m\n\u001b[1;32m---> <a href='vscode-notebook-cell:/c%3A/Users/andre/Documents/GitHub/Sntiment-Analysis-from-Tweets/DoubleNegativeAnalysis.ipynb#W1sZmlsZQ%3D%3D?line=36'>37</a>\u001b[0m fasttext_model300 \u001b[39m=\u001b[39m api\u001b[39m.\u001b[39;49mload(\u001b[39m'\u001b[39;49m\u001b[39mfasttext-wiki-news-subwords-300\u001b[39;49m\u001b[39m'\u001b[39;49m)\n\u001b[0;32m     <a href='vscode-notebook-cell:/c%3A/Users/andre/Documents/GitHub/Sntiment-Analysis-from-Tweets/DoubleNegativeAnalysis.ipynb#W1sZmlsZQ%3D%3D?line=37'>38</a>\u001b[0m documents \u001b[39m=\u001b[39m userDF[\u001b[39m'\u001b[39m\u001b[39mtopics\u001b[39m\u001b[39m'\u001b[39m]\n\u001b[0;32m     <a href='vscode-notebook-cell:/c%3A/Users/andre/Documents/GitHub/Sntiment-Analysis-from-Tweets/DoubleNegativeAnalysis.ipynb#W1sZmlsZQ%3D%3D?line=38'>39</a>\u001b[0m dictionary \u001b[39m=\u001b[39m Dictionary(documents)\n",
      "File \u001b[1;32m~\\AppData\\Local\\Packages\\PythonSoftwareFoundation.Python.3.10_qbz5n2kfra8p0\\LocalCache\\local-packages\\Python310\\site-packages\\gensim\\downloader.py:503\u001b[0m, in \u001b[0;36mload\u001b[1;34m(name, return_path)\u001b[0m\n\u001b[0;32m    501\u001b[0m sys\u001b[39m.\u001b[39mpath\u001b[39m.\u001b[39minsert(\u001b[39m0\u001b[39m, BASE_DIR)\n\u001b[0;32m    502\u001b[0m module \u001b[39m=\u001b[39m \u001b[39m__import__\u001b[39m(name)\n\u001b[1;32m--> 503\u001b[0m \u001b[39mreturn\u001b[39;00m module\u001b[39m.\u001b[39;49mload_data()\n",
      "File \u001b[1;32m~/gensim-data\\fasttext-wiki-news-subwords-300\\__init__.py:8\u001b[0m, in \u001b[0;36mload_data\u001b[1;34m()\u001b[0m\n\u001b[0;32m      6\u001b[0m \u001b[39mdef\u001b[39;00m \u001b[39mload_data\u001b[39m():\n\u001b[0;32m      7\u001b[0m     path \u001b[39m=\u001b[39m os\u001b[39m.\u001b[39mpath\u001b[39m.\u001b[39mjoin(base_dir, \u001b[39m'\u001b[39m\u001b[39mfasttext-wiki-news-subwords-300\u001b[39m\u001b[39m'\u001b[39m, \u001b[39m\"\u001b[39m\u001b[39mfasttext-wiki-news-subwords-300.gz\u001b[39m\u001b[39m\"\u001b[39m)\n\u001b[1;32m----> 8\u001b[0m     model \u001b[39m=\u001b[39m KeyedVectors\u001b[39m.\u001b[39;49mload_word2vec_format(path, binary\u001b[39m=\u001b[39;49m\u001b[39mFalse\u001b[39;49;00m)\n\u001b[0;32m      9\u001b[0m     \u001b[39mreturn\u001b[39;00m model\n",
      "File \u001b[1;32m~\\AppData\\Local\\Packages\\PythonSoftwareFoundation.Python.3.10_qbz5n2kfra8p0\\LocalCache\\local-packages\\Python310\\site-packages\\gensim\\models\\keyedvectors.py:1719\u001b[0m, in \u001b[0;36mKeyedVectors.load_word2vec_format\u001b[1;34m(cls, fname, fvocab, binary, encoding, unicode_errors, limit, datatype, no_header)\u001b[0m\n\u001b[0;32m   1672\u001b[0m \u001b[39m@classmethod\u001b[39m\n\u001b[0;32m   1673\u001b[0m \u001b[39mdef\u001b[39;00m \u001b[39mload_word2vec_format\u001b[39m(\n\u001b[0;32m   1674\u001b[0m         \u001b[39mcls\u001b[39m, fname, fvocab\u001b[39m=\u001b[39m\u001b[39mNone\u001b[39;00m, binary\u001b[39m=\u001b[39m\u001b[39mFalse\u001b[39;00m, encoding\u001b[39m=\u001b[39m\u001b[39m'\u001b[39m\u001b[39mutf8\u001b[39m\u001b[39m'\u001b[39m, unicode_errors\u001b[39m=\u001b[39m\u001b[39m'\u001b[39m\u001b[39mstrict\u001b[39m\u001b[39m'\u001b[39m,\n\u001b[0;32m   1675\u001b[0m         limit\u001b[39m=\u001b[39m\u001b[39mNone\u001b[39;00m, datatype\u001b[39m=\u001b[39mREAL, no_header\u001b[39m=\u001b[39m\u001b[39mFalse\u001b[39;00m,\n\u001b[0;32m   1676\u001b[0m     ):\n\u001b[0;32m   1677\u001b[0m     \u001b[39m\"\"\"Load KeyedVectors from a file produced by the original C word2vec-tool format.\u001b[39;00m\n\u001b[0;32m   1678\u001b[0m \n\u001b[0;32m   1679\u001b[0m \u001b[39m    Warnings\u001b[39;00m\n\u001b[1;32m   (...)\u001b[0m\n\u001b[0;32m   1717\u001b[0m \n\u001b[0;32m   1718\u001b[0m \u001b[39m    \"\"\"\u001b[39;00m\n\u001b[1;32m-> 1719\u001b[0m     \u001b[39mreturn\u001b[39;00m _load_word2vec_format(\n\u001b[0;32m   1720\u001b[0m         \u001b[39mcls\u001b[39;49m, fname, fvocab\u001b[39m=\u001b[39;49mfvocab, binary\u001b[39m=\u001b[39;49mbinary, encoding\u001b[39m=\u001b[39;49mencoding, unicode_errors\u001b[39m=\u001b[39;49municode_errors,\n\u001b[0;32m   1721\u001b[0m         limit\u001b[39m=\u001b[39;49mlimit, datatype\u001b[39m=\u001b[39;49mdatatype, no_header\u001b[39m=\u001b[39;49mno_header,\n\u001b[0;32m   1722\u001b[0m     )\n",
      "File \u001b[1;32m~\\AppData\\Local\\Packages\\PythonSoftwareFoundation.Python.3.10_qbz5n2kfra8p0\\LocalCache\\local-packages\\Python310\\site-packages\\gensim\\models\\keyedvectors.py:2069\u001b[0m, in \u001b[0;36m_load_word2vec_format\u001b[1;34m(cls, fname, fvocab, binary, encoding, unicode_errors, limit, datatype, no_header, binary_chunk_size)\u001b[0m\n\u001b[0;32m   2065\u001b[0m         _word2vec_read_binary(\n\u001b[0;32m   2066\u001b[0m             fin, kv, counts, vocab_size, vector_size, datatype, unicode_errors, binary_chunk_size, encoding\n\u001b[0;32m   2067\u001b[0m         )\n\u001b[0;32m   2068\u001b[0m     \u001b[39melse\u001b[39;00m:\n\u001b[1;32m-> 2069\u001b[0m         _word2vec_read_text(fin, kv, counts, vocab_size, vector_size, datatype, unicode_errors, encoding)\n\u001b[0;32m   2070\u001b[0m \u001b[39mif\u001b[39;00m kv\u001b[39m.\u001b[39mvectors\u001b[39m.\u001b[39mshape[\u001b[39m0\u001b[39m] \u001b[39m!=\u001b[39m \u001b[39mlen\u001b[39m(kv):\n\u001b[0;32m   2071\u001b[0m     logger\u001b[39m.\u001b[39minfo(\n\u001b[0;32m   2072\u001b[0m         \u001b[39m\"\u001b[39m\u001b[39mduplicate words detected, shrinking matrix size from \u001b[39m\u001b[39m%i\u001b[39;00m\u001b[39m to \u001b[39m\u001b[39m%i\u001b[39;00m\u001b[39m\"\u001b[39m,\n\u001b[0;32m   2073\u001b[0m         kv\u001b[39m.\u001b[39mvectors\u001b[39m.\u001b[39mshape[\u001b[39m0\u001b[39m], \u001b[39mlen\u001b[39m(kv),\n\u001b[0;32m   2074\u001b[0m     )\n",
      "File \u001b[1;32m~\\AppData\\Local\\Packages\\PythonSoftwareFoundation.Python.3.10_qbz5n2kfra8p0\\LocalCache\\local-packages\\Python310\\site-packages\\gensim\\models\\keyedvectors.py:1971\u001b[0m, in \u001b[0;36m_word2vec_read_text\u001b[1;34m(fin, kv, counts, vocab_size, vector_size, datatype, unicode_errors, encoding)\u001b[0m\n\u001b[0;32m   1969\u001b[0m \u001b[39mdef\u001b[39;00m \u001b[39m_word2vec_read_text\u001b[39m(fin, kv, counts, vocab_size, vector_size, datatype, unicode_errors, encoding):\n\u001b[0;32m   1970\u001b[0m     \u001b[39mfor\u001b[39;00m line_no \u001b[39min\u001b[39;00m \u001b[39mrange\u001b[39m(vocab_size):\n\u001b[1;32m-> 1971\u001b[0m         line \u001b[39m=\u001b[39m fin\u001b[39m.\u001b[39;49mreadline()\n\u001b[0;32m   1972\u001b[0m         \u001b[39mif\u001b[39;00m line \u001b[39m==\u001b[39m \u001b[39mb\u001b[39m\u001b[39m'\u001b[39m\u001b[39m'\u001b[39m:\n\u001b[0;32m   1973\u001b[0m             \u001b[39mraise\u001b[39;00m \u001b[39mEOFError\u001b[39;00m(\u001b[39m\"\u001b[39m\u001b[39munexpected end of input; is count incorrect or file otherwise damaged?\u001b[39m\u001b[39m\"\u001b[39m)\n",
      "File \u001b[1;32mC:\\Program Files\\WindowsApps\\PythonSoftwareFoundation.Python.3.10_3.10.3056.0_x64__qbz5n2kfra8p0\\lib\\gzip.py:399\u001b[0m, in \u001b[0;36mGzipFile.readline\u001b[1;34m(self, size)\u001b[0m\n\u001b[0;32m    397\u001b[0m \u001b[39mdef\u001b[39;00m \u001b[39mreadline\u001b[39m(\u001b[39mself\u001b[39m, size\u001b[39m=\u001b[39m\u001b[39m-\u001b[39m\u001b[39m1\u001b[39m):\n\u001b[0;32m    398\u001b[0m     \u001b[39mself\u001b[39m\u001b[39m.\u001b[39m_check_not_closed()\n\u001b[1;32m--> 399\u001b[0m     \u001b[39mreturn\u001b[39;00m \u001b[39mself\u001b[39;49m\u001b[39m.\u001b[39;49m_buffer\u001b[39m.\u001b[39;49mreadline(size)\n",
      "File \u001b[1;32mC:\\Program Files\\WindowsApps\\PythonSoftwareFoundation.Python.3.10_3.10.3056.0_x64__qbz5n2kfra8p0\\lib\\_compression.py:68\u001b[0m, in \u001b[0;36mDecompressReader.readinto\u001b[1;34m(self, b)\u001b[0m\n\u001b[0;32m     66\u001b[0m \u001b[39mdef\u001b[39;00m \u001b[39mreadinto\u001b[39m(\u001b[39mself\u001b[39m, b):\n\u001b[0;32m     67\u001b[0m     \u001b[39mwith\u001b[39;00m \u001b[39mmemoryview\u001b[39m(b) \u001b[39mas\u001b[39;00m view, view\u001b[39m.\u001b[39mcast(\u001b[39m\"\u001b[39m\u001b[39mB\u001b[39m\u001b[39m\"\u001b[39m) \u001b[39mas\u001b[39;00m byte_view:\n\u001b[1;32m---> 68\u001b[0m         data \u001b[39m=\u001b[39m \u001b[39mself\u001b[39;49m\u001b[39m.\u001b[39;49mread(\u001b[39mlen\u001b[39;49m(byte_view))\n\u001b[0;32m     69\u001b[0m         byte_view[:\u001b[39mlen\u001b[39m(data)] \u001b[39m=\u001b[39m data\n\u001b[0;32m     70\u001b[0m     \u001b[39mreturn\u001b[39;00m \u001b[39mlen\u001b[39m(data)\n",
      "File \u001b[1;32mC:\\Program Files\\WindowsApps\\PythonSoftwareFoundation.Python.3.10_3.10.3056.0_x64__qbz5n2kfra8p0\\lib\\gzip.py:496\u001b[0m, in \u001b[0;36m_GzipReader.read\u001b[1;34m(self, size)\u001b[0m\n\u001b[0;32m    493\u001b[0m \u001b[39m# Read a chunk of data from the file\u001b[39;00m\n\u001b[0;32m    494\u001b[0m buf \u001b[39m=\u001b[39m \u001b[39mself\u001b[39m\u001b[39m.\u001b[39m_fp\u001b[39m.\u001b[39mread(io\u001b[39m.\u001b[39mDEFAULT_BUFFER_SIZE)\n\u001b[1;32m--> 496\u001b[0m uncompress \u001b[39m=\u001b[39m \u001b[39mself\u001b[39;49m\u001b[39m.\u001b[39;49m_decompressor\u001b[39m.\u001b[39;49mdecompress(buf, size)\n\u001b[0;32m    497\u001b[0m \u001b[39mif\u001b[39;00m \u001b[39mself\u001b[39m\u001b[39m.\u001b[39m_decompressor\u001b[39m.\u001b[39munconsumed_tail \u001b[39m!=\u001b[39m \u001b[39mb\u001b[39m\u001b[39m\"\u001b[39m\u001b[39m\"\u001b[39m:\n\u001b[0;32m    498\u001b[0m     \u001b[39mself\u001b[39m\u001b[39m.\u001b[39m_fp\u001b[39m.\u001b[39mprepend(\u001b[39mself\u001b[39m\u001b[39m.\u001b[39m_decompressor\u001b[39m.\u001b[39munconsumed_tail)\n",
      "\u001b[1;31mKeyboardInterrupt\u001b[0m: "
     ]
    }
   ],
   "source": [
    "from gensim.similarities import SparseTermSimilarityMatrix, WordEmbeddingSimilarityIndex\n",
    "import gensim.downloader as api\n",
    "from gensim.corpora import Dictionary\n",
    "from gensim.models import KeyedVectors\n",
    "from gensim.models import TfidfModel\n",
    "from gensim.similarities import SoftCosineSimilarity\n",
    "\n",
    "userDF = pd.DataFrame(columns=['id', 'topics',])\n",
    "userDF.id = df.id.unique()\n",
    "#add all unique topics to userDF by id unless it is empty\n",
    "for i in range(0, len(userDF)):\n",
    "    userDF['topics'][i] = df[df['id'] == userDF['id'][i]]['topics'].sum()\n",
    "    userDF['topics'][i] = [x for x in userDF['topics'][i] if x != \"\\'\\'\"]\n",
    "    \n",
    "userDF['topicsRaw'] = userDF['topics'].copy()\n",
    "\n",
    "#change sentiment 4 to 1\n",
    "df['sentiment'] = df['sentiment'].apply(lambda x: 1 if x == 4 else x)\n",
    "\n",
    "#for each topic add sentiment based on mean of sentiment of the user's tweets with that topic\n",
    "for i in range(0, len(userDF)):\n",
    "    new_row = []\n",
    "\n",
    "    for j in range(0, len(userDF['topics'][i])):\n",
    "        new_row.append(userDF['topics'][i][j] + str((df[(df['id'] == userDF['id'][i]) & (df['topics'].apply(lambda x: userDF['topics'][i][j] in x))]['sentiment'].mean()).round(2)))\n",
    "        \n",
    "    userDF.at[i, 'topics'] = new_row\n",
    "\n",
    "#convert array of topicsRaw to string\n",
    "userDF['topicsRaw'] = userDF['topicsRaw'].apply(lambda x: str(x))\n",
    "\n",
    "#clean topicsRaw and convert to array\n",
    "userDF['topicsRaw'] = userDF['topicsRaw'].apply(lambda x: x.replace(\"\\\"\", \"\"))\n",
    "userDF['topicsRaw'] = userDF['topicsRaw'].apply(lambda x: x[1:-1].split(', '))\n",
    "\n",
    "#using soft cosine similarity return 10 most similar users to a given user\n",
    "fasttext_model300 = api.load('fasttext-wiki-news-subwords-300')\n",
    "documents = userDF['topics']\n",
    "dictionary = Dictionary(documents)\n",
    "bow_corpus = [dictionary.doc2bow(doc) for doc in documents]\n",
    "index = WordEmbeddingSimilarityIndex(fasttext_model300)\n",
    "sims = SparseTermSimilarityMatrix(index, dictionary)\n",
    "model = SoftCosineSimilarity(bow_corpus, sims, num_best=10)\n",
    "\n",
    "def get_recommendations(id):\n",
    "    idx = userDF.index[userDF['id'] == id][0]\n",
    "    query = userDF['topics'][idx]\n",
    "    query = dictionary.doc2bow(query)\n",
    "    return model[query]\n",
    "\n",
    "dfCopy = df.copy()\n",
    "userDfCopy = userDF.copy()\n",
    "\n",
    "predResults = []\n",
    "\n",
    "for i in range(0, len(selectedIndex)):\n",
    "    \n",
    "    df = dfCopy.copy()\n",
    "    userDfCopy = userDF.copy()\n",
    "    \n",
    "    #get closest users to the given user to predict sentiment towards a topic\n",
    "    results = get_recommendations(df['id'][selectedIndex[i]])\n",
    "\n",
    "    #only use users with a distance of less than 0.3\n",
    "    results = [x for x in results if x[1] < 0.3 ]\n",
    "\n",
    "    #assign user{number} to each user\n",
    "    userDF['user'] = [\"user\" + str(i) for i in range(0, len(userDF))]\n",
    "    userDF['userNum'] = [str(i) for i in range(0, len(userDF))]\n",
    "\n",
    "    print(\"Closest users to\", userDF.loc[userDF['id'] == df['id'][selectedIndex[i]], 'user'].iloc[0], \"are:\", [userDF['user'][x[0]] for x in results], \"with distances of:\", [x[1] for x in results])\n",
    "\n",
    "    #predict sentiment towards the chosen text based on the closest users' sentiment towards the topic\n",
    "    topics = df['topics'][selectedIndex[i]]\n",
    "\n",
    "    #find texts from close users with at least 1 topic in common with the chosen text and add to df\n",
    "    closeDF = pd.DataFrame(columns=['id', 'text', 'modText', 'sentiment', 'topics', 'hashtags'])\n",
    "    for i in range(0, len(results)):\n",
    "        closeDF = closeDF.append(df[(df['id'] == userDF['id'][results[i][0]]) & (df['topics'].apply(lambda x: any(item in x for item in topics)))])\n",
    "\n",
    "    #perform knn on the close users' sentiment towards the topic\n",
    "    from sklearn.neighbors import KNeighborsClassifier\n",
    "    from sklearn.feature_extraction.text import CountVectorizer\n",
    "\n",
    "    closeDF = closeDF.append(pd.Series(), ignore_index=True)\n",
    "    chosenTopics = df['topics'][selectedIndex[i]]\n",
    "    closeDF['topics'].iloc[-1] = chosenTopics\n",
    "\n",
    "    closeDF['topics'] = closeDF['topics'].astype(str)\n",
    "    closeDF['topics'] = closeDF['topics'].astype(pd.StringDtype())\n",
    "    for i in range(0, len(closeDF)):\n",
    "        closeDF['topics'].iloc[i] = closeDF['topics'].iloc[i].replace(\"'\", \"\")\n",
    "        closeDF['topics'].iloc[i] = closeDF['topics'].iloc[i].replace(\",\", \"\")\n",
    "        closeDF['topics'].iloc[i] = closeDF['topics'].iloc[i].replace(\"[\", \"\")\n",
    "        closeDF['topics'].iloc[i] = closeDF['topics'].iloc[i].replace(\"]\", \"\")\n",
    "        closeDF['topics'].iloc[i] = closeDF['topics'].iloc[i].replace(\"\\\"\", \"\")\n",
    "\n",
    "    #encode topics as bag of words\n",
    "    try:\n",
    "        vectorizer = CountVectorizer(max_features=100, stop_words='english')\n",
    "        X = vectorizer.fit_transform(closeDF['topics'].astype(str))\n",
    "        X = pd.DataFrame(X.todense())\n",
    "\n",
    "        #train knn\n",
    "        knn = KNeighborsClassifier(n_neighbors=5)\n",
    "        knn.fit(X[:-1].astype(int), closeDF['sentiment'][:-1].astype(int))\n",
    "\n",
    "        #predict sentiment towards the chosen text\n",
    "        closeDF['sentiment'].iloc[-1] = knn.predict(X[-1:])\n",
    "        \n",
    "        predResults.append(closeDF['sentiment'].iloc[-1])\n",
    "    except:\n",
    "        predResults.append(9)"
   ]
  },
  {
   "cell_type": "code",
   "execution_count": 4,
   "metadata": {},
   "outputs": [
    {
     "name": "stderr",
     "output_type": "stream",
     "text": [
      "C:\\Users\\andre\\AppData\\Local\\Temp\\ipykernel_17648\\979792583.py:9: FutureWarning: The default dtype for empty Series will be 'object' instead of 'float64' in a future version. Specify a dtype explicitly to silence this warning.\n",
      "  train = train.append(pd.Series(), ignore_index=True)\n",
      "C:\\Users\\andre\\AppData\\Local\\Temp\\ipykernel_17648\\979792583.py:9: FutureWarning: The frame.append method is deprecated and will be removed from pandas in a future version. Use pandas.concat instead.\n",
      "  train = train.append(pd.Series(), ignore_index=True)\n"
     ]
    },
    {
     "ename": "NameError",
     "evalue": "name 'predResults' is not defined",
     "output_type": "error",
     "traceback": [
      "\u001b[1;31m---------------------------------------------------------------------------\u001b[0m",
      "\u001b[1;31mNameError\u001b[0m                                 Traceback (most recent call last)",
      "\u001b[1;32mc:\\Users\\andre\\Documents\\GitHub\\Sntiment-Analysis-from-Tweets\\DoubleNegativeAnalysis.ipynb Cell 3\u001b[0m in \u001b[0;36m<cell line: 10>\u001b[1;34m()\u001b[0m\n\u001b[0;32m      <a href='vscode-notebook-cell:/c%3A/Users/andre/Documents/GitHub/Sntiment-Analysis-from-Tweets/DoubleNegativeAnalysis.ipynb#W2sZmlsZQ%3D%3D?line=6'>7</a>\u001b[0m train, test \u001b[39m=\u001b[39m train_test_split(df, test_size\u001b[39m=\u001b[39m\u001b[39m100\u001b[39m, random_state\u001b[39m=\u001b[39m\u001b[39m42\u001b[39m)\n\u001b[0;32m      <a href='vscode-notebook-cell:/c%3A/Users/andre/Documents/GitHub/Sntiment-Analysis-from-Tweets/DoubleNegativeAnalysis.ipynb#W2sZmlsZQ%3D%3D?line=8'>9</a>\u001b[0m train \u001b[39m=\u001b[39m train\u001b[39m.\u001b[39mappend(pd\u001b[39m.\u001b[39mSeries(), ignore_index\u001b[39m=\u001b[39m\u001b[39mTrue\u001b[39;00m)\n\u001b[1;32m---> <a href='vscode-notebook-cell:/c%3A/Users/andre/Documents/GitHub/Sntiment-Analysis-from-Tweets/DoubleNegativeAnalysis.ipynb#W2sZmlsZQ%3D%3D?line=9'>10</a>\u001b[0m train[\u001b[39m'\u001b[39m\u001b[39msentiment\u001b[39m\u001b[39m'\u001b[39m]\u001b[39m.\u001b[39miloc[\u001b[39m-\u001b[39m\u001b[39m1\u001b[39m] \u001b[39m=\u001b[39m predResults\n\u001b[0;32m     <a href='vscode-notebook-cell:/c%3A/Users/andre/Documents/GitHub/Sntiment-Analysis-from-Tweets/DoubleNegativeAnalysis.ipynb#W2sZmlsZQ%3D%3D?line=11'>12</a>\u001b[0m \u001b[39m#train knn on the dataset\u001b[39;00m\n\u001b[0;32m     <a href='vscode-notebook-cell:/c%3A/Users/andre/Documents/GitHub/Sntiment-Analysis-from-Tweets/DoubleNegativeAnalysis.ipynb#W2sZmlsZQ%3D%3D?line=13'>14</a>\u001b[0m \u001b[39mfrom\u001b[39;00m \u001b[39msklearn\u001b[39;00m\u001b[39m.\u001b[39;00m\u001b[39mneighbors\u001b[39;00m \u001b[39mimport\u001b[39;00m KNeighborsClassifier\n",
      "\u001b[1;31mNameError\u001b[0m: name 'predResults' is not defined"
     ]
    }
   ],
   "source": [
    "#split df into train and test. test on same percentage as the number of selected texts. \n",
    "\n",
    "testSize = len(selectedIndex)/len(df)\n",
    "\n",
    "from sklearn.model_selection import train_test_split\n",
    "\n",
    "train, test = train_test_split(df, test_size=100, random_state=42)\n",
    "\n",
    "train = train.append(pd.Series(), ignore_index=True)\n",
    "train['sentiment'].iloc[-1] = predResults\n",
    "\n",
    "#train knn on the dataset\n",
    "\n",
    "from sklearn.neighbors import KNeighborsClassifier\n",
    "from sklearn.feature_extraction.text import CountVectorizer\n",
    "\n",
    "train['topics'] = train['topics'].astype(str)\n",
    "train['topics'] = train['topics'].astype(pd.StringDtype())\n",
    "for i in range(0, len(train)):\n",
    "    train['topics'].iloc[i] = train['topics'].iloc[i].replace(\"'\", \"\")\n",
    "    train['topics'].iloc[i] = train['topics'].iloc[i].replace(\",\", \"\")\n",
    "    train['topics'].iloc[i] = train['topics'].iloc[i].replace(\"[\", \"\")\n",
    "    train['topics'].iloc[i] = train['topics'].iloc[i].replace(\"]\", \"\")\n",
    "    train['topics'].iloc[i] = train['topics'].iloc[i].replace(\"\\\"\", \"\")\n",
    "    \n",
    "vectorizer = CountVectorizer(max_features=100, stop_words='english')\n",
    "X = vectorizer.fit_transform(train['topics'].astype(str))\n",
    "X = pd.DataFrame(X.todense())\n",
    "\n",
    "knn = KNeighborsClassifier(n_neighbors=5)\n",
    "knn.fit(X[:-1].astype(int), train['sentiment'][:-1].astype(int))\n",
    "\n",
    "#predict sentiment towards the test texts\n",
    "test['topics'] = test['topics'].astype(str)\n",
    "test['topics'] = test['topics'].astype(pd.StringDtype())\n",
    "for i in range(0, len(test)):\n",
    "    test['topics'].iloc[i] = test['topics'].iloc[i].replace(\"'\", \"\")\n",
    "    test['topics'].iloc[i] = test['topics'].iloc[i].replace(\",\", \"\")\n",
    "    test['topics'].iloc[i] = test['topics'].iloc[i].replace(\"[\", \"\")\n",
    "    test['topics'].iloc[i] = test['topics'].iloc[i].replace(\"]\", \"\")\n",
    "    test['topics'].iloc[i] = test['topics'].iloc[i].replace(\"\\\"\", \"\")\n",
    "    \n",
    "vectorizer = CountVectorizer(max_features=100, stop_words='english')\n",
    "X = vectorizer.fit_transform(test['topics'].astype(str))\n",
    "X = pd.DataFrame(X.todense())\n",
    "\n",
    "a = knn.predict(X)\n",
    "\n",
    "#evaluate accuracy\n",
    "from sklearn.metrics import accuracy_score\n",
    "\n",
    "accuracy_score(test['sentiment'], a)\n"
   ]
  },
  {
   "cell_type": "code",
   "execution_count": 4,
   "metadata": {},
   "outputs": [
    {
     "name": "stdout",
     "output_type": "stream",
     "text": [
      "[array([0]), array([0]), array([0]), array([1]), array([0]), array([0]), array([0]), array([0]), array([0]), 9, 9, array([1]), 9, array([0]), array([0]), array([1]), 9, array([0]), array([0]), array([1]), array([0]), array([0]), array([0]), array([1]), 9, 9, 9, array([0]), 9, array([0]), array([0]), 9, array([1]), array([1]), 9, array([0]), array([0]), array([0]), array([0]), array([0]), 9, array([0]), array([0]), 9, array([1]), array([1]), 9, 9, array([0]), array([0]), 9, array([0]), array([0]), array([0]), array([1]), array([0]), array([0]), 9, array([0]), array([0]), 9, array([0]), array([0]), 9, array([0]), 9, 9, array([1]), array([0]), array([0]), array([1]), array([0]), array([0]), array([0]), array([0]), array([0])]\n"
     ]
    }
   ],
   "source": [
    "print(predResults)"
   ]
  },
  {
   "cell_type": "code",
   "execution_count": 5,
   "metadata": {},
   "outputs": [],
   "source": [
    "#add original sentiment and predicted sentiment to new dataframe\n",
    "\n",
    "predDf = pd.DataFrame(columns=['id', 'ogSentiment', 'predSentiment'])\n",
    "predDf['id'] = df['id'][selectedIndex]\n",
    "predDf['ogSentiment'] = df['sentiment'][selectedIndex]\n",
    "predDf['predSentiment'] = predResults\n",
    "\n",
    "#remove all rows with predicted sentiment of 9\n",
    "predDf = predDf[predDf['predSentiment'] != 9]\n",
    "\n",
    "predDf.predSentiment = predDf.predSentiment.astype(int)"
   ]
  },
  {
   "cell_type": "code",
   "execution_count": 6,
   "metadata": {},
   "outputs": [
    {
     "name": "stdout",
     "output_type": "stream",
     "text": [
      "Correct predictions: 32\n",
      "Incorrect predictions: 24\n"
     ]
    },
    {
     "data": {
      "image/png": "[encoded data removed]",
      "text/plain": [
       "<Figure size 432x288 with 1 Axes>"
      ]
     },
     "metadata": {},
     "output_type": "display_data"
    }
   ],
   "source": [
    "#visualise amount of correct predictions vs incorrect predictions\n",
    "\n",
    "correct = 0\n",
    "incorrect = 0\n",
    "\n",
    "for i in range(0, len(predDf)):\n",
    "    if predDf['ogSentiment'].iloc[i] == predDf['predSentiment'].iloc[i]:\n",
    "        correct += 1\n",
    "    else:\n",
    "        incorrect += 1\n",
    "        \n",
    "print(\"Correct predictions:\", correct)\n",
    "print(\"Incorrect predictions:\", incorrect)\n",
    "\n",
    "import matplotlib.pyplot as plt\n",
    "\n",
    "labels = 'Correct', 'Incorrect'\n",
    "sizes = [correct, incorrect]\n",
    "explode = (0, 0.1)\n",
    "\n",
    "fig1, ax1 = plt.subplots()\n",
    "ax1.pie(sizes, explode=explode, labels=labels, autopct='%1.1f%%', shadow=False, startangle=90)\n",
    "ax1.axis('equal')\n",
    "\n",
    "plt.show()\n"
   ]
  },
  {
   "cell_type": "code",
   "execution_count": 1,
   "metadata": {},
   "outputs": [
    {
     "ename": "NameError",
     "evalue": "name 'df' is not defined",
     "output_type": "error",
     "traceback": [
      "\u001b[1;31m---------------------------------------------------------------------------\u001b[0m",
      "\u001b[1;31mNameError\u001b[0m                                 Traceback (most recent call last)",
      "\u001b[1;32mc:\\Users\\andre\\Documents\\GitHub\\Sntiment-Analysis-from-Tweets\\DoubleNegativeAnalysis.ipynb Cell 6\u001b[0m in \u001b[0;36m<cell line: 1>\u001b[1;34m()\u001b[0m\n\u001b[1;32m----> <a href='vscode-notebook-cell:/c%3A/Users/andre/Documents/GitHub/Sntiment-Analysis-from-Tweets/DoubleNegativeAnalysis.ipynb#W5sZmlsZQ%3D%3D?line=0'>1</a>\u001b[0m \u001b[39mprint\u001b[39m(\u001b[39m\"\u001b[39m\u001b[39mPredicted sentiment towards\u001b[39m\u001b[39m\"\u001b[39m, df[\u001b[39m'\u001b[39m\u001b[39mtext\u001b[39m\u001b[39m'\u001b[39m][selectedIndex], \u001b[39m\"\u001b[39m\u001b[39mis\u001b[39m\u001b[39m\"\u001b[39m, closeDF[\u001b[39m'\u001b[39m\u001b[39msentiment\u001b[39m\u001b[39m'\u001b[39m]\u001b[39m.\u001b[39miloc[\u001b[39m-\u001b[39m\u001b[39m1\u001b[39m])\n\u001b[0;32m      <a href='vscode-notebook-cell:/c%3A/Users/andre/Documents/GitHub/Sntiment-Analysis-from-Tweets/DoubleNegativeAnalysis.ipynb#W5sZmlsZQ%3D%3D?line=1'>2</a>\u001b[0m \u001b[39mprint\u001b[39m(\u001b[39m\"\u001b[39m\u001b[39mOriginal sentiment towards\u001b[39m\u001b[39m\"\u001b[39m, df[\u001b[39m'\u001b[39m\u001b[39mtext\u001b[39m\u001b[39m'\u001b[39m][selectedIndex], \u001b[39m\"\u001b[39m\u001b[39mis\u001b[39m\u001b[39m\"\u001b[39m, df[\u001b[39m'\u001b[39m\u001b[39msentiment\u001b[39m\u001b[39m'\u001b[39m][selectedIndex])\n",
      "\u001b[1;31mNameError\u001b[0m: name 'df' is not defined"
     ]
    }
   ],
   "source": [
    "print(\"Predicted sentiment towards\", df['text'][selectedIndex], \"is\", closeDF['sentiment'].iloc[-1])\n",
    "print(\"Original sentiment towards\", df['text'][selectedIndex], \"is\", df['sentiment'][selectedIndex])"
   ]
  }
 ],
 "metadata": {
  "kernelspec": {
   "display_name": "Python 3",
   "language": "python",
   "name": "python3"
  },
  "language_info": {
   "codemirror_mode": {
    "name": "ipython",
    "version": 3
   },
   "file_extension": ".py",
   "mimetype": "text/x-python",
   "name": "python",
   "nbconvert_exporter": "python",
   "pygments_lexer": "ipython3",
   "version": "3.10.11"
  },
  "orig_nbformat": 4
 },
 "nbformat": 4,
 "nbformat_minor": 2
}
