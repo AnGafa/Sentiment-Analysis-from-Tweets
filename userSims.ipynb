{
 "cells": [
  {
   "cell_type": "code",
   "execution_count": 1,
   "metadata": {},
   "outputs": [
    {
     "name": "stderr",
     "output_type": "stream",
     "text": [
      "C:\\Users\\andre\\AppData\\Local\\Temp\\ipykernel_14840\\4112635066.py:10: SettingWithCopyWarning: \n",
      "A value is trying to be set on a copy of a slice from a DataFrame\n",
      "\n",
      "See the caveats in the documentation: https://pandas.pydata.org/pandas-docs/stable/user_guide/indexing.html#returning-a-view-versus-a-copy\n",
      "  df['topics'][i] = df['topics'][i].replace(\"'',\", \"\")\n"
     ]
    },
    {
     "data": {
      "text/html": [
       "<div>\n",
       "<style scoped>\n",
       "    .dataframe tbody tr th:only-of-type {\n",
       "        vertical-align: middle;\n",
       "    }\n",
       "\n",
       "    .dataframe tbody tr th {\n",
       "        vertical-align: top;\n",
       "    }\n",
       "\n",
       "    .dataframe thead th {\n",
       "        text-align: right;\n",
       "    }\n",
       "</style>\n",
       "<table border=\"1\" class=\"dataframe\">\n",
       "  <thead>\n",
       "    <tr style=\"text-align: right;\">\n",
       "      <th></th>\n",
       "      <th>id</th>\n",
       "      <th>text</th>\n",
       "      <th>modText</th>\n",
       "      <th>sentiment</th>\n",
       "      <th>topics</th>\n",
       "      <th>hashtags</th>\n",
       "    </tr>\n",
       "  </thead>\n",
       "  <tbody>\n",
       "    <tr>\n",
       "      <th>2095</th>\n",
       "      <td>57B01778-A962-ED11-B67D-D85ED3AE4DFE</td>\n",
       "      <td>Stand by everything I said here obviously. The...</td>\n",
       "      <td>stand everyth said obvious peopl need thrown c...</td>\n",
       "      <td>4</td>\n",
       "      <td>['']</td>\n",
       "      <td>[]</td>\n",
       "    </tr>\n",
       "    <tr>\n",
       "      <th>2094</th>\n",
       "      <td>57B01778-A962-ED11-B67D-D85ED3AE4DFE</td>\n",
       "      <td>This is what I was reacting to by the way \\r\\n...</td>\n",
       "      <td>react</td>\n",
       "      <td>4</td>\n",
       "      <td>['']</td>\n",
       "      <td>[]</td>\n",
       "    </tr>\n",
       "    <tr>\n",
       "      <th>2098</th>\n",
       "      <td>64EA9B6D-AA62-ED11-B67D-D85ED3AE4DFE</td>\n",
       "      <td>@WholeMarsBlog To assess if a drug is good, wh...</td>\n",
       "      <td>assess drug good whether legal illeg acid test...</td>\n",
       "      <td>0</td>\n",
       "      <td>['Test', 'Legal']</td>\n",
       "      <td>[]</td>\n",
       "    </tr>\n",
       "    <tr>\n",
       "      <th>2097</th>\n",
       "      <td>64EA9B6D-AA62-ED11-B67D-D85ED3AE4DFE</td>\n",
       "      <td>@WholeMarsBlog Cocaine does not meet that test</td>\n",
       "      <td>cocain meet test</td>\n",
       "      <td>4</td>\n",
       "      <td>['Test']</td>\n",
       "      <td>[]</td>\n",
       "    </tr>\n",
       "    <tr>\n",
       "      <th>2096</th>\n",
       "      <td>57B01778-A962-ED11-B67D-D85ED3AE4DFE</td>\n",
       "      <td>Hmm I wonder why you didn't include the part w...</td>\n",
       "      <td>wonder includ part play clip half nake drag qu...</td>\n",
       "      <td>4</td>\n",
       "      <td>['Kids', 'Sex']</td>\n",
       "      <td>[]</td>\n",
       "    </tr>\n",
       "    <tr>\n",
       "      <th>2100</th>\n",
       "      <td>64EA9B6D-AA62-ED11-B67D-D85ED3AE4DFE</td>\n",
       "      <td>@WholeMarsBlog Banning alcohol caused the bigg...</td>\n",
       "      <td>ban alcohol caus biggest rise organ crime amer...</td>\n",
       "      <td>0</td>\n",
       "      <td>['Drugs', 'Crime']</td>\n",
       "      <td>[]</td>\n",
       "    </tr>\n",
       "    <tr>\n",
       "      <th>2091</th>\n",
       "      <td>57B01778-A962-ED11-B67D-D85ED3AE4DFE</td>\n",
       "      <td>This is a very dark and disturbing look at men...</td>\n",
       "      <td>dark disturb look mental ill</td>\n",
       "      <td>0</td>\n",
       "      <td>['Mental Illness']</td>\n",
       "      <td>[]</td>\n",
       "    </tr>\n",
       "    <tr>\n",
       "      <th>2092</th>\n",
       "      <td>57B01778-A962-ED11-B67D-D85ED3AE4DFE</td>\n",
       "      <td>This is an outrage and I would never wiggle ou...</td>\n",
       "      <td>outrag would never wiggl like except time</td>\n",
       "      <td>0</td>\n",
       "      <td>['']</td>\n",
       "      <td>[]</td>\n",
       "    </tr>\n",
       "    <tr>\n",
       "      <th>2101</th>\n",
       "      <td>64EA9B6D-AA62-ED11-B67D-D85ED3AE4DFE</td>\n",
       "      <td>Launch 61 of 2022. Congrats SpaceX! https://t....</td>\n",
       "      <td>launch congrat spacex</td>\n",
       "      <td>4</td>\n",
       "      <td>['Spacex']</td>\n",
       "      <td>[]</td>\n",
       "    </tr>\n",
       "    <tr>\n",
       "      <th>2093</th>\n",
       "      <td>57B01778-A962-ED11-B67D-D85ED3AE4DFE</td>\n",
       "      <td>@JasonSCampbell Do you think that event was ap...</td>\n",
       "      <td>think event appropri children</td>\n",
       "      <td>0</td>\n",
       "      <td>['']</td>\n",
       "      <td>[]</td>\n",
       "    </tr>\n",
       "  </tbody>\n",
       "</table>\n",
       "</div>"
      ],
      "text/plain": [
       "                                        id  \\\n",
       "2095  57B01778-A962-ED11-B67D-D85ED3AE4DFE   \n",
       "2094  57B01778-A962-ED11-B67D-D85ED3AE4DFE   \n",
       "2098  64EA9B6D-AA62-ED11-B67D-D85ED3AE4DFE   \n",
       "2097  64EA9B6D-AA62-ED11-B67D-D85ED3AE4DFE   \n",
       "2096  57B01778-A962-ED11-B67D-D85ED3AE4DFE   \n",
       "2100  64EA9B6D-AA62-ED11-B67D-D85ED3AE4DFE   \n",
       "2091  57B01778-A962-ED11-B67D-D85ED3AE4DFE   \n",
       "2092  57B01778-A962-ED11-B67D-D85ED3AE4DFE   \n",
       "2101  64EA9B6D-AA62-ED11-B67D-D85ED3AE4DFE   \n",
       "2093  57B01778-A962-ED11-B67D-D85ED3AE4DFE   \n",
       "\n",
       "                                                   text  \\\n",
       "2095  Stand by everything I said here obviously. The...   \n",
       "2094  This is what I was reacting to by the way \\r\\n...   \n",
       "2098  @WholeMarsBlog To assess if a drug is good, wh...   \n",
       "2097     @WholeMarsBlog Cocaine does not meet that test   \n",
       "2096  Hmm I wonder why you didn't include the part w...   \n",
       "2100  @WholeMarsBlog Banning alcohol caused the bigg...   \n",
       "2091  This is a very dark and disturbing look at men...   \n",
       "2092  This is an outrage and I would never wiggle ou...   \n",
       "2101  Launch 61 of 2022. Congrats SpaceX! https://t....   \n",
       "2093  @JasonSCampbell Do you think that event was ap...   \n",
       "\n",
       "                                                modText  sentiment  \\\n",
       "2095  stand everyth said obvious peopl need thrown c...          4   \n",
       "2094                                              react          4   \n",
       "2098  assess drug good whether legal illeg acid test...          0   \n",
       "2097                                   cocain meet test          4   \n",
       "2096  wonder includ part play clip half nake drag qu...          4   \n",
       "2100  ban alcohol caus biggest rise organ crime amer...          0   \n",
       "2091                       dark disturb look mental ill          0   \n",
       "2092          outrag would never wiggl like except time          0   \n",
       "2101                              launch congrat spacex          4   \n",
       "2093                      think event appropri children          0   \n",
       "\n",
       "                  topics hashtags  \n",
       "2095                ['']       []  \n",
       "2094                ['']       []  \n",
       "2098   ['Test', 'Legal']       []  \n",
       "2097            ['Test']       []  \n",
       "2096     ['Kids', 'Sex']       []  \n",
       "2100  ['Drugs', 'Crime']       []  \n",
       "2091  ['Mental Illness']       []  \n",
       "2092                ['']       []  \n",
       "2101          ['Spacex']       []  \n",
       "2093                ['']       []  "
      ]
     },
     "execution_count": 1,
     "metadata": {},
     "output_type": "execute_result"
    }
   ],
   "source": [
    "import pandas as pd\n",
    "import matplotlib.pyplot as plt\n",
    "\n",
    "df = pd.read_csv('./results4.csv')\n",
    "df.columns = ['id', 'text', 'modText', 'sentiment', 'topics', 'hashtags']\n",
    "\n",
    "chosenId = \"64EA9B6D-AA62-ED11-B67D-D85ED3AE4DFE\"\n",
    "\n",
    "for i in range(0, len(df)):\n",
    "    df['topics'][i] = df['topics'][i].replace(\"'',\", \"\")\n",
    "df['topics'] = df['topics'].apply(lambda x: x[1:-1].split(', '))\n",
    "\n",
    "#apply knn on id based on topics\n",
    "from sklearn.neighbors import NearestNeighbors\n",
    "from sklearn.feature_extraction.text import TfidfVectorizer\n",
    "from sklearn.metrics.pairwise import cosine_similarity\n",
    "\n",
    "tfidf = TfidfVectorizer()\n",
    "tfidf_matrix = tfidf.fit_transform(df['topics'].apply(lambda x: ' '.join(x)))\n",
    "cosine_sim = cosine_similarity(tfidf_matrix, tfidf_matrix)\n",
    "\n",
    "knn = NearestNeighbors(n_neighbors=10, metric='cosine')\n",
    "knn.fit(tfidf_matrix)\n",
    "\n",
    "def get_recommendations(id, cosine_sim=cosine_sim):\n",
    "    idx = df.index[df['id'] == id][0]\n",
    "    distances, indices = knn.kneighbors(tfidf_matrix[idx], n_neighbors=10)\n",
    "    return df.iloc[indices[0]]\n",
    "\n",
    "get_recommendations(chosenId)"
   ]
  },
  {
   "cell_type": "code",
   "execution_count": 2,
   "metadata": {},
   "outputs": [
    {
     "data": {
      "text/plain": [
       "''                0.210466\n",
       "'EU'              0.014324\n",
       "'Twitter'         0.013751\n",
       "'Law'             0.012032\n",
       "'News'            0.010504\n",
       "                    ...   \n",
       "'Religion'        0.000191\n",
       "'Left'            0.000191\n",
       "'Privacy'         0.000191\n",
       "'@HouseGOP'       0.000191\n",
       " '@RihoTerras'    0.000191\n",
       "Length: 1018, dtype: float64"
      ]
     },
     "execution_count": 2,
     "metadata": {},
     "output_type": "execute_result"
    }
   ],
   "source": [
    "#remove \"'',\" from topics\n",
    "df['topics'] = df['topics'].apply(lambda x: [i.replace(\"'',\", \"\") for i in x])\n",
    "\n",
    "#get percentage of topics in each category\n",
    "def get_percentage(df):\n",
    "    topics = []\n",
    "    for i in df['topics']:\n",
    "        topics.extend(i)\n",
    "    topics = pd.Series(topics)\n",
    "    return topics.value_counts()/len(topics)\n",
    "\n",
    "get_percentage(df)"
   ]
  },
  {
   "cell_type": "code",
   "execution_count": 3,
   "metadata": {},
   "outputs": [],
   "source": [
    "from gensim.similarities import SparseTermSimilarityMatrix, WordEmbeddingSimilarityIndex\n",
    "import gensim.downloader as api\n",
    "from gensim.corpora import Dictionary\n",
    "from gensim.models import KeyedVectors\n",
    "from gensim.models import TfidfModel\n",
    "from gensim.similarities import SoftCosineSimilarity\n",
    "import numpy as np\n",
    "\n",
    "userDF = pd.DataFrame(columns=['id', 'topics',])\n",
    "userDF.id = df.id.unique()\n",
    "#add all unique topics to userDF by id unless it is empty\n",
    "for i in range(0, len(userDF)):\n",
    "    userDF['topics'][i] = df[df['id'] == userDF['id'][i]]['topics'].sum()\n",
    "    userDF['topics'][i] = [x for x in userDF['topics'][i] if x != \"\\'\\'\"]\n",
    "\n",
    "#copy topics to new column without any reference to original dataframe\n",
    "userDF['_topics'] = userDF['topics'].copy()"
   ]
  },
  {
   "cell_type": "code",
   "execution_count": 4,
   "metadata": {},
   "outputs": [],
   "source": [
    "for i in range(0, len(userDF)):\n",
    "    new_row = []\n",
    "\n",
    "    for j in range(0, len(userDF['topics'][i])):\n",
    "        new_row.append(userDF['topics'][i][j] + str((df[(df['id'] == userDF['id'][i]) & (df['topics'].apply(lambda x: userDF['topics'][i][j] in x))]['sentiment'].mean()).round(2)))\n",
    "        \n",
    "    userDF.at[i, 'topics'] = new_row "
   ]
  },
  {
   "cell_type": "code",
   "execution_count": 5,
   "metadata": {},
   "outputs": [
    {
     "data": {
      "text/plain": [
       "\"for i in range(0, len(userDF)):\\n    for j in range(0, len(userDF['topics'][i])):\\n        userDF['topics'][i][j] = userDF['topics'][i][j] + str((df[(df['id'] == userDF['id'][i]) & (df['topics'].apply(lambda x: userDF['topics'][i][j] in x))]['sentiment'].mean()).round(2))\""
      ]
     },
     "execution_count": 5,
     "metadata": {},
     "output_type": "execute_result"
    }
   ],
   "source": [
    "#for each topic add sentiment based on mean of sentiment of the user's tweets with that topic\n",
    "'''for i in range(0, len(userDF)):\n",
    "    for j in range(0, len(userDF['topics'][i])):\n",
    "        userDF['topics'][i][j] = userDF['topics'][i][j] + str((df[(df['id'] == userDF['id'][i]) & (df['topics'].apply(lambda x: userDF['topics'][i][j] in x))]['sentiment'].mean()).round(2))'''"
   ]
  },
  {
   "cell_type": "code",
   "execution_count": 6,
   "metadata": {},
   "outputs": [
    {
     "name": "stderr",
     "output_type": "stream",
     "text": [
      "100%|██████████| 1484/1484 [00:00<00:00, 370982.66it/s]\n"
     ]
    }
   ],
   "source": [
    "#using soft cosine similarity return 10 most similar users to a given user\n",
    "fasttext_model300 = api.load('fasttext-wiki-news-subwords-300')\n",
    "documents = userDF['topics']\n",
    "dictionary = Dictionary(documents)\n",
    "bow_corpus = [dictionary.doc2bow(doc) for doc in documents]\n",
    "index = WordEmbeddingSimilarityIndex(fasttext_model300)\n",
    "sims = SparseTermSimilarityMatrix(index, dictionary)\n",
    "model = SoftCosineSimilarity(bow_corpus, sims, num_best=10)\n",
    "\n",
    "#assign user {number} to each user\n",
    "userDF['user'] = [\"user\" + str(i) for i in range(0, len(userDF))]"
   ]
  },
  {
   "cell_type": "code",
   "execution_count": 12,
   "metadata": {},
   "outputs": [
    {
     "name": "stderr",
     "output_type": "stream",
     "text": [
      "C:\\Users\\andre\\AppData\\Local\\Packages\\PythonSoftwareFoundation.Python.3.10_qbz5n2kfra8p0\\LocalCache\\local-packages\\Python310\\site-packages\\gensim\\similarities\\termsim.py:382: RuntimeWarning:\n",
      "\n",
      "divide by zero encountered in divide\n",
      "\n",
      "C:\\Users\\andre\\AppData\\Local\\Packages\\PythonSoftwareFoundation.Python.3.10_qbz5n2kfra8p0\\LocalCache\\local-packages\\Python310\\site-packages\\gensim\\similarities\\termsim.py:382: RuntimeWarning:\n",
      "\n",
      "invalid value encountered in multiply\n",
      "\n"
     ]
    },
    {
     "data": {
      "application/vnd.plotly.v1+json": {
       "config": {
        "plotlyServerURL": "https://plot.ly"
       },
       "data": [
        {
         "cells": {
          "align": "left",
          "fill": {
           "color": "lavender"
          },
          "values": [
           [
            "user4",
            "user7",
            "user6",
            "user5",
            "user3",
            "user12",
            "user13",
            "user9",
            "user0"
           ],
           [
            28,
            49,
            51,
            27,
            16,
            17,
            37,
            35,
            14
           ]
          ]
         },
         "header": {
          "align": "left",
          "fill": {
           "color": "paleturquoise"
          },
          "values": [
           "User",
           "Similar Topics"
          ]
         },
         "type": "table"
        }
       ],
       "layout": {
        "height": 500,
        "template": {
         "data": {
          "bar": [
           {
            "error_x": {
             "color": "#2a3f5f"
            },
            "error_y": {
             "color": "#2a3f5f"
            },
            "marker": {
             "line": {
              "color": "#E5ECF6",
              "width": 0.5
             },
             "pattern": {
              "fillmode": "overlay",
              "size": 10,
              "solidity": 0.2
             }
            },
            "type": "bar"
           }
          ],
          "barpolar": [
           {
            "marker": {
             "line": {
              "color": "#E5ECF6",
              "width": 0.5
             },
             "pattern": {
              "fillmode": "overlay",
              "size": 10,
              "solidity": 0.2
             }
            },
            "type": "barpolar"
           }
          ],
          "carpet": [
           {
            "aaxis": {
             "endlinecolor": "#2a3f5f",
             "gridcolor": "white",
             "linecolor": "white",
             "minorgridcolor": "white",
             "startlinecolor": "#2a3f5f"
            },
            "baxis": {
             "endlinecolor": "#2a3f5f",
             "gridcolor": "white",
             "linecolor": "white",
             "minorgridcolor": "white",
             "startlinecolor": "#2a3f5f"
            },
            "type": "carpet"
           }
          ],
          "choropleth": [
           {
            "colorbar": {
             "outlinewidth": 0,
             "ticks": ""
            },
            "type": "choropleth"
           }
          ],
          "contour": [
           {
            "colorbar": {
             "outlinewidth": 0,
             "ticks": ""
            },
            "colorscale": [
             [
              0,
              "#0d0887"
             ],
             [
              0.1111111111111111,
              "#46039f"
             ],
             [
              0.2222222222222222,
              "#7201a8"
             ],
             [
              0.3333333333333333,
              "#9c179e"
             ],
             [
              0.4444444444444444,
              "#bd3786"
             ],
             [
              0.5555555555555556,
              "#d8576b"
             ],
             [
              0.6666666666666666,
              "#ed7953"
             ],
             [
              0.7777777777777778,
              "#fb9f3a"
             ],
             [
              0.8888888888888888,
              "#fdca26"
             ],
             [
              1,
              "#f0f921"
             ]
            ],
            "type": "contour"
           }
          ],
          "contourcarpet": [
           {
            "colorbar": {
             "outlinewidth": 0,
             "ticks": ""
            },
            "type": "contourcarpet"
           }
          ],
          "heatmap": [
           {
            "colorbar": {
             "outlinewidth": 0,
             "ticks": ""
            },
            "colorscale": [
             [
              0,
              "#0d0887"
             ],
             [
              0.1111111111111111,
              "#46039f"
             ],
             [
              0.2222222222222222,
              "#7201a8"
             ],
             [
              0.3333333333333333,
              "#9c179e"
             ],
             [
              0.4444444444444444,
              "#bd3786"
             ],
             [
              0.5555555555555556,
              "#d8576b"
             ],
             [
              0.6666666666666666,
              "#ed7953"
             ],
             [
              0.7777777777777778,
              "#fb9f3a"
             ],
             [
              0.8888888888888888,
              "#fdca26"
             ],
             [
              1,
              "#f0f921"
             ]
            ],
            "type": "heatmap"
           }
          ],
          "heatmapgl": [
           {
            "colorbar": {
             "outlinewidth": 0,
             "ticks": ""
            },
            "colorscale": [
             [
              0,
              "#0d0887"
             ],
             [
              0.1111111111111111,
              "#46039f"
             ],
             [
              0.2222222222222222,
              "#7201a8"
             ],
             [
              0.3333333333333333,
              "#9c179e"
             ],
             [
              0.4444444444444444,
              "#bd3786"
             ],
             [
              0.5555555555555556,
              "#d8576b"
             ],
             [
              0.6666666666666666,
              "#ed7953"
             ],
             [
              0.7777777777777778,
              "#fb9f3a"
             ],
             [
              0.8888888888888888,
              "#fdca26"
             ],
             [
              1,
              "#f0f921"
             ]
            ],
            "type": "heatmapgl"
           }
          ],
          "histogram": [
           {
            "marker": {
             "pattern": {
              "fillmode": "overlay",
              "size": 10,
              "solidity": 0.2
             }
            },
            "type": "histogram"
           }
          ],
          "histogram2d": [
           {
            "colorbar": {
             "outlinewidth": 0,
             "ticks": ""
            },
            "colorscale": [
             [
              0,
              "#0d0887"
             ],
             [
              0.1111111111111111,
              "#46039f"
             ],
             [
              0.2222222222222222,
              "#7201a8"
             ],
             [
              0.3333333333333333,
              "#9c179e"
             ],
             [
              0.4444444444444444,
              "#bd3786"
             ],
             [
              0.5555555555555556,
              "#d8576b"
             ],
             [
              0.6666666666666666,
              "#ed7953"
             ],
             [
              0.7777777777777778,
              "#fb9f3a"
             ],
             [
              0.8888888888888888,
              "#fdca26"
             ],
             [
              1,
              "#f0f921"
             ]
            ],
            "type": "histogram2d"
           }
          ],
          "histogram2dcontour": [
           {
            "colorbar": {
             "outlinewidth": 0,
             "ticks": ""
            },
            "colorscale": [
             [
              0,
              "#0d0887"
             ],
             [
              0.1111111111111111,
              "#46039f"
             ],
             [
              0.2222222222222222,
              "#7201a8"
             ],
             [
              0.3333333333333333,
              "#9c179e"
             ],
             [
              0.4444444444444444,
              "#bd3786"
             ],
             [
              0.5555555555555556,
              "#d8576b"
             ],
             [
              0.6666666666666666,
              "#ed7953"
             ],
             [
              0.7777777777777778,
              "#fb9f3a"
             ],
             [
              0.8888888888888888,
              "#fdca26"
             ],
             [
              1,
              "#f0f921"
             ]
            ],
            "type": "histogram2dcontour"
           }
          ],
          "mesh3d": [
           {
            "colorbar": {
             "outlinewidth": 0,
             "ticks": ""
            },
            "type": "mesh3d"
           }
          ],
          "parcoords": [
           {
            "line": {
             "colorbar": {
              "outlinewidth": 0,
              "ticks": ""
             }
            },
            "type": "parcoords"
           }
          ],
          "pie": [
           {
            "automargin": true,
            "type": "pie"
           }
          ],
          "scatter": [
           {
            "fillpattern": {
             "fillmode": "overlay",
             "size": 10,
             "solidity": 0.2
            },
            "type": "scatter"
           }
          ],
          "scatter3d": [
           {
            "line": {
             "colorbar": {
              "outlinewidth": 0,
              "ticks": ""
             }
            },
            "marker": {
             "colorbar": {
              "outlinewidth": 0,
              "ticks": ""
             }
            },
            "type": "scatter3d"
           }
          ],
          "scattercarpet": [
           {
            "marker": {
             "colorbar": {
              "outlinewidth": 0,
              "ticks": ""
             }
            },
            "type": "scattercarpet"
           }
          ],
          "scattergeo": [
           {
            "marker": {
             "colorbar": {
              "outlinewidth": 0,
              "ticks": ""
             }
            },
            "type": "scattergeo"
           }
          ],
          "scattergl": [
           {
            "marker": {
             "colorbar": {
              "outlinewidth": 0,
              "ticks": ""
             }
            },
            "type": "scattergl"
           }
          ],
          "scattermapbox": [
           {
            "marker": {
             "colorbar": {
              "outlinewidth": 0,
              "ticks": ""
             }
            },
            "type": "scattermapbox"
           }
          ],
          "scatterpolar": [
           {
            "marker": {
             "colorbar": {
              "outlinewidth": 0,
              "ticks": ""
             }
            },
            "type": "scatterpolar"
           }
          ],
          "scatterpolargl": [
           {
            "marker": {
             "colorbar": {
              "outlinewidth": 0,
              "ticks": ""
             }
            },
            "type": "scatterpolargl"
           }
          ],
          "scatterternary": [
           {
            "marker": {
             "colorbar": {
              "outlinewidth": 0,
              "ticks": ""
             }
            },
            "type": "scatterternary"
           }
          ],
          "surface": [
           {
            "colorbar": {
             "outlinewidth": 0,
             "ticks": ""
            },
            "colorscale": [
             [
              0,
              "#0d0887"
             ],
             [
              0.1111111111111111,
              "#46039f"
             ],
             [
              0.2222222222222222,
              "#7201a8"
             ],
             [
              0.3333333333333333,
              "#9c179e"
             ],
             [
              0.4444444444444444,
              "#bd3786"
             ],
             [
              0.5555555555555556,
              "#d8576b"
             ],
             [
              0.6666666666666666,
              "#ed7953"
             ],
             [
              0.7777777777777778,
              "#fb9f3a"
             ],
             [
              0.8888888888888888,
              "#fdca26"
             ],
             [
              1,
              "#f0f921"
             ]
            ],
            "type": "surface"
           }
          ],
          "table": [
           {
            "cells": {
             "fill": {
              "color": "#EBF0F8"
             },
             "line": {
              "color": "white"
             }
            },
            "header": {
             "fill": {
              "color": "#C8D4E3"
             },
             "line": {
              "color": "white"
             }
            },
            "type": "table"
           }
          ]
         },
         "layout": {
          "annotationdefaults": {
           "arrowcolor": "#2a3f5f",
           "arrowhead": 0,
           "arrowwidth": 1
          },
          "autotypenumbers": "strict",
          "coloraxis": {
           "colorbar": {
            "outlinewidth": 0,
            "ticks": ""
           }
          },
          "colorscale": {
           "diverging": [
            [
             0,
             "#8e0152"
            ],
            [
             0.1,
             "#c51b7d"
            ],
            [
             0.2,
             "#de77ae"
            ],
            [
             0.3,
             "#f1b6da"
            ],
            [
             0.4,
             "#fde0ef"
            ],
            [
             0.5,
             "#f7f7f7"
            ],
            [
             0.6,
             "#e6f5d0"
            ],
            [
             0.7,
             "#b8e186"
            ],
            [
             0.8,
             "#7fbc41"
            ],
            [
             0.9,
             "#4d9221"
            ],
            [
             1,
             "#276419"
            ]
           ],
           "sequential": [
            [
             0,
             "#0d0887"
            ],
            [
             0.1111111111111111,
             "#46039f"
            ],
            [
             0.2222222222222222,
             "#7201a8"
            ],
            [
             0.3333333333333333,
             "#9c179e"
            ],
            [
             0.4444444444444444,
             "#bd3786"
            ],
            [
             0.5555555555555556,
             "#d8576b"
            ],
            [
             0.6666666666666666,
             "#ed7953"
            ],
            [
             0.7777777777777778,
             "#fb9f3a"
            ],
            [
             0.8888888888888888,
             "#fdca26"
            ],
            [
             1,
             "#f0f921"
            ]
           ],
           "sequentialminus": [
            [
             0,
             "#0d0887"
            ],
            [
             0.1111111111111111,
             "#46039f"
            ],
            [
             0.2222222222222222,
             "#7201a8"
            ],
            [
             0.3333333333333333,
             "#9c179e"
            ],
            [
             0.4444444444444444,
             "#bd3786"
            ],
            [
             0.5555555555555556,
             "#d8576b"
            ],
            [
             0.6666666666666666,
             "#ed7953"
            ],
            [
             0.7777777777777778,
             "#fb9f3a"
            ],
            [
             0.8888888888888888,
             "#fdca26"
            ],
            [
             1,
             "#f0f921"
            ]
           ]
          },
          "colorway": [
           "#636efa",
           "#EF553B",
           "#00cc96",
           "#ab63fa",
           "#FFA15A",
           "#19d3f3",
           "#FF6692",
           "#B6E880",
           "#FF97FF",
           "#FECB52"
          ],
          "font": {
           "color": "#2a3f5f"
          },
          "geo": {
           "bgcolor": "white",
           "lakecolor": "white",
           "landcolor": "#E5ECF6",
           "showlakes": true,
           "showland": true,
           "subunitcolor": "white"
          },
          "hoverlabel": {
           "align": "left"
          },
          "hovermode": "closest",
          "mapbox": {
           "style": "light"
          },
          "paper_bgcolor": "white",
          "plot_bgcolor": "#E5ECF6",
          "polar": {
           "angularaxis": {
            "gridcolor": "white",
            "linecolor": "white",
            "ticks": ""
           },
           "bgcolor": "#E5ECF6",
           "radialaxis": {
            "gridcolor": "white",
            "linecolor": "white",
            "ticks": ""
           }
          },
          "scene": {
           "xaxis": {
            "backgroundcolor": "#E5ECF6",
            "gridcolor": "white",
            "gridwidth": 2,
            "linecolor": "white",
            "showbackground": true,
            "ticks": "",
            "zerolinecolor": "white"
           },
           "yaxis": {
            "backgroundcolor": "#E5ECF6",
            "gridcolor": "white",
            "gridwidth": 2,
            "linecolor": "white",
            "showbackground": true,
            "ticks": "",
            "zerolinecolor": "white"
           },
           "zaxis": {
            "backgroundcolor": "#E5ECF6",
            "gridcolor": "white",
            "gridwidth": 2,
            "linecolor": "white",
            "showbackground": true,
            "ticks": "",
            "zerolinecolor": "white"
           }
          },
          "shapedefaults": {
           "line": {
            "color": "#2a3f5f"
           }
          },
          "ternary": {
           "aaxis": {
            "gridcolor": "white",
            "linecolor": "white",
            "ticks": ""
           },
           "baxis": {
            "gridcolor": "white",
            "linecolor": "white",
            "ticks": ""
           },
           "bgcolor": "#E5ECF6",
           "caxis": {
            "gridcolor": "white",
            "linecolor": "white",
            "ticks": ""
           }
          },
          "title": {
           "x": 0.05
          },
          "xaxis": {
           "automargin": true,
           "gridcolor": "white",
           "linecolor": "white",
           "ticks": "",
           "title": {
            "standoff": 15
           },
           "zerolinecolor": "white",
           "zerolinewidth": 2
          },
          "yaxis": {
           "automargin": true,
           "gridcolor": "white",
           "linecolor": "white",
           "ticks": "",
           "title": {
            "standoff": 15
           },
           "zerolinecolor": "white",
           "zerolinewidth": 2
          }
         }
        },
        "width": 500
       }
      }
     },
     "metadata": {},
     "output_type": "display_data"
    },
    {
     "data": {
      "application/vnd.plotly.v1+json": {
       "config": {
        "plotlyServerURL": "https://plot.ly"
       },
       "data": [
        {
         "cells": {
          "align": "left",
          "fill": {
           "color": "lavender"
          },
          "values": [
           [
            "user4",
            "user7",
            "user6",
            "user5",
            "user3",
            "user12",
            "user13",
            "user9",
            "user0"
           ],
           [
            "'Drugs', 'Government', 'Job', 'Social Media', 'Law', 'Fire', 'Truth', 'War', 'News', 'Mind', 'Food', 'Cryptocurrency', 'Artificial Intelligence', 'Money', 'Work', 'History', 'Startup', 'Tech', 'Stories', 'Nft', 'Veterans', 'Safety', 'Science', 'Blockchain', 'Future', 'Internet', 'Elections', 'Progress'",
            "'AI', 'Nuclear', 'Kids', 'Job', 'Government', 'Drugs', 'Facebook', 'Media', 'Social Media', 'Building', 'Law', 'Truth', 'Live', 'Death', 'Crime', 'Test', 'War', 'Earth', 'News', 'Legal', 'Mind', 'Rest', 'Entertainment', 'Food', 'Cryptocurrency', 'Podcast', 'Employees', 'Money', 'The New York Times', 'Video', 'Thoughts', 'Work', 'History', 'TikTok', 'Startup', 'Tech', 'Stories', 'Focus', 'Nft', 'Twitter', 'Safety', 'Science', 'Freedom', 'Competition', 'Internet', 'Tweet', 'ChatGPT', 'Elections', 'Awareness'",
            "'Metaverse', 'AI', 'Automotive', 'Paper', 'Kids', 'Job', 'Government', 'Facebook', 'Media', 'Social Media', 'Fire', 'Building', 'Law', 'Instagram', 'Google', 'Live', 'Death', 'Crime', 'War', 'News', 'Legal', 'Mind', 'NASA', 'Ftx', 'Promotion', 'Cryptocurrency', 'Podcast', 'Employees', 'Money', 'App', 'Physics', 'Followers', 'The New York Times', 'Opinion', 'Work', 'History', 'TikTok', 'Startup', 'Tech', 'Stories', 'Discount', 'Nft', 'Veterans', 'Twitter', 'Science', 'Freedom', 'Blockchain', 'Future', 'Tweet', 'ChatGPT', 'Progress'",
            "'Kids', 'Government', 'Job', 'Drugs', 'Media', 'Law', 'Truth', 'Crime', 'Journalism', 'Earth', 'News', 'Legal', 'Rest', 'Food', 'Cryptocurrency', 'Revenue', 'Money', 'The New York Times', 'Opinion', 'Work', 'History', 'Startup', 'Nft', 'Blockchain', 'Future', 'Launch', 'Elections'",
            "'Freedom', 'Thoughts', 'War', 'Nuclear', 'News', 'Work', 'Impact', 'Job', 'Startup', 'Tech', 'Future', 'Stories', 'Media', 'Predictions', 'Launch', 'Resources'",
            "'Freedom', 'News', 'Work', 'History', 'Government', 'Drugs', 'Mind', 'Future', 'Startup', 'Cryptocurrency', 'Law', 'Internet', 'Nft', 'Veterans', 'Elections', 'Science', 'Progress'",
            "'Paper', 'Kids', 'Job', 'Government', 'Media', 'Social Media', 'Law', 'Death', 'Digital', 'Crime', 'Connectivity', 'Test', 'News', 'War', 'Elections', 'Food', 'Cryptocurrency', 'Podcast', 'Money', 'Video', 'Work', 'History', 'Impact', 'Startup', 'Focus', 'Nft', 'Twitter', 'Freedom', 'Blockchain', 'Future', 'EU', 'Competition', 'Internet', 'Space', 'Resources', 'Awareness', 'Progress'",
            "'Metaverse', 'Job', 'Government', 'Facebook', 'Media', 'Social Media', 'Fire', 'Truth', 'Live', 'Digital', 'War', 'Earth', 'News', 'Ftx', 'Rest', 'Food', 'Cryptocurrency', 'Money', 'App', 'Video', 'Work', 'Impact', 'TikTok', 'Startup', 'Safety', 'Twitter', 'Science', 'Freedom', 'Blockchain', 'Future', 'EU', 'Space', 'Elections', 'Launch', 'Medium'",
            "'Digital', 'Connectivity', 'War', 'News', 'Work', 'Impact', 'Future', 'Training', 'EU', 'Media', 'Food', 'Launch', 'Money', 'Progress'"
           ]
          ]
         },
         "header": {
          "align": "left",
          "fill": {
           "color": "paleturquoise"
          },
          "values": [
           "User",
           "Similar Topics"
          ]
         },
         "type": "table"
        }
       ],
       "layout": {
        "height": 1000,
        "template": {
         "data": {
          "bar": [
           {
            "error_x": {
             "color": "#2a3f5f"
            },
            "error_y": {
             "color": "#2a3f5f"
            },
            "marker": {
             "line": {
              "color": "#E5ECF6",
              "width": 0.5
             },
             "pattern": {
              "fillmode": "overlay",
              "size": 10,
              "solidity": 0.2
             }
            },
            "type": "bar"
           }
          ],
          "barpolar": [
           {
            "marker": {
             "line": {
              "color": "#E5ECF6",
              "width": 0.5
             },
             "pattern": {
              "fillmode": "overlay",
              "size": 10,
              "solidity": 0.2
             }
            },
            "type": "barpolar"
           }
          ],
          "carpet": [
           {
            "aaxis": {
             "endlinecolor": "#2a3f5f",
             "gridcolor": "white",
             "linecolor": "white",
             "minorgridcolor": "white",
             "startlinecolor": "#2a3f5f"
            },
            "baxis": {
             "endlinecolor": "#2a3f5f",
             "gridcolor": "white",
             "linecolor": "white",
             "minorgridcolor": "white",
             "startlinecolor": "#2a3f5f"
            },
            "type": "carpet"
           }
          ],
          "choropleth": [
           {
            "colorbar": {
             "outlinewidth": 0,
             "ticks": ""
            },
            "type": "choropleth"
           }
          ],
          "contour": [
           {
            "colorbar": {
             "outlinewidth": 0,
             "ticks": ""
            },
            "colorscale": [
             [
              0,
              "#0d0887"
             ],
             [
              0.1111111111111111,
              "#46039f"
             ],
             [
              0.2222222222222222,
              "#7201a8"
             ],
             [
              0.3333333333333333,
              "#9c179e"
             ],
             [
              0.4444444444444444,
              "#bd3786"
             ],
             [
              0.5555555555555556,
              "#d8576b"
             ],
             [
              0.6666666666666666,
              "#ed7953"
             ],
             [
              0.7777777777777778,
              "#fb9f3a"
             ],
             [
              0.8888888888888888,
              "#fdca26"
             ],
             [
              1,
              "#f0f921"
             ]
            ],
            "type": "contour"
           }
          ],
          "contourcarpet": [
           {
            "colorbar": {
             "outlinewidth": 0,
             "ticks": ""
            },
            "type": "contourcarpet"
           }
          ],
          "heatmap": [
           {
            "colorbar": {
             "outlinewidth": 0,
             "ticks": ""
            },
            "colorscale": [
             [
              0,
              "#0d0887"
             ],
             [
              0.1111111111111111,
              "#46039f"
             ],
             [
              0.2222222222222222,
              "#7201a8"
             ],
             [
              0.3333333333333333,
              "#9c179e"
             ],
             [
              0.4444444444444444,
              "#bd3786"
             ],
             [
              0.5555555555555556,
              "#d8576b"
             ],
             [
              0.6666666666666666,
              "#ed7953"
             ],
             [
              0.7777777777777778,
              "#fb9f3a"
             ],
             [
              0.8888888888888888,
              "#fdca26"
             ],
             [
              1,
              "#f0f921"
             ]
            ],
            "type": "heatmap"
           }
          ],
          "heatmapgl": [
           {
            "colorbar": {
             "outlinewidth": 0,
             "ticks": ""
            },
            "colorscale": [
             [
              0,
              "#0d0887"
             ],
             [
              0.1111111111111111,
              "#46039f"
             ],
             [
              0.2222222222222222,
              "#7201a8"
             ],
             [
              0.3333333333333333,
              "#9c179e"
             ],
             [
              0.4444444444444444,
              "#bd3786"
             ],
             [
              0.5555555555555556,
              "#d8576b"
             ],
             [
              0.6666666666666666,
              "#ed7953"
             ],
             [
              0.7777777777777778,
              "#fb9f3a"
             ],
             [
              0.8888888888888888,
              "#fdca26"
             ],
             [
              1,
              "#f0f921"
             ]
            ],
            "type": "heatmapgl"
           }
          ],
          "histogram": [
           {
            "marker": {
             "pattern": {
              "fillmode": "overlay",
              "size": 10,
              "solidity": 0.2
             }
            },
            "type": "histogram"
           }
          ],
          "histogram2d": [
           {
            "colorbar": {
             "outlinewidth": 0,
             "ticks": ""
            },
            "colorscale": [
             [
              0,
              "#0d0887"
             ],
             [
              0.1111111111111111,
              "#46039f"
             ],
             [
              0.2222222222222222,
              "#7201a8"
             ],
             [
              0.3333333333333333,
              "#9c179e"
             ],
             [
              0.4444444444444444,
              "#bd3786"
             ],
             [
              0.5555555555555556,
              "#d8576b"
             ],
             [
              0.6666666666666666,
              "#ed7953"
             ],
             [
              0.7777777777777778,
              "#fb9f3a"
             ],
             [
              0.8888888888888888,
              "#fdca26"
             ],
             [
              1,
              "#f0f921"
             ]
            ],
            "type": "histogram2d"
           }
          ],
          "histogram2dcontour": [
           {
            "colorbar": {
             "outlinewidth": 0,
             "ticks": ""
            },
            "colorscale": [
             [
              0,
              "#0d0887"
             ],
             [
              0.1111111111111111,
              "#46039f"
             ],
             [
              0.2222222222222222,
              "#7201a8"
             ],
             [
              0.3333333333333333,
              "#9c179e"
             ],
             [
              0.4444444444444444,
              "#bd3786"
             ],
             [
              0.5555555555555556,
              "#d8576b"
             ],
             [
              0.6666666666666666,
              "#ed7953"
             ],
             [
              0.7777777777777778,
              "#fb9f3a"
             ],
             [
              0.8888888888888888,
              "#fdca26"
             ],
             [
              1,
              "#f0f921"
             ]
            ],
            "type": "histogram2dcontour"
           }
          ],
          "mesh3d": [
           {
            "colorbar": {
             "outlinewidth": 0,
             "ticks": ""
            },
            "type": "mesh3d"
           }
          ],
          "parcoords": [
           {
            "line": {
             "colorbar": {
              "outlinewidth": 0,
              "ticks": ""
             }
            },
            "type": "parcoords"
           }
          ],
          "pie": [
           {
            "automargin": true,
            "type": "pie"
           }
          ],
          "scatter": [
           {
            "fillpattern": {
             "fillmode": "overlay",
             "size": 10,
             "solidity": 0.2
            },
            "type": "scatter"
           }
          ],
          "scatter3d": [
           {
            "line": {
             "colorbar": {
              "outlinewidth": 0,
              "ticks": ""
             }
            },
            "marker": {
             "colorbar": {
              "outlinewidth": 0,
              "ticks": ""
             }
            },
            "type": "scatter3d"
           }
          ],
          "scattercarpet": [
           {
            "marker": {
             "colorbar": {
              "outlinewidth": 0,
              "ticks": ""
             }
            },
            "type": "scattercarpet"
           }
          ],
          "scattergeo": [
           {
            "marker": {
             "colorbar": {
              "outlinewidth": 0,
              "ticks": ""
             }
            },
            "type": "scattergeo"
           }
          ],
          "scattergl": [
           {
            "marker": {
             "colorbar": {
              "outlinewidth": 0,
              "ticks": ""
             }
            },
            "type": "scattergl"
           }
          ],
          "scattermapbox": [
           {
            "marker": {
             "colorbar": {
              "outlinewidth": 0,
              "ticks": ""
             }
            },
            "type": "scattermapbox"
           }
          ],
          "scatterpolar": [
           {
            "marker": {
             "colorbar": {
              "outlinewidth": 0,
              "ticks": ""
             }
            },
            "type": "scatterpolar"
           }
          ],
          "scatterpolargl": [
           {
            "marker": {
             "colorbar": {
              "outlinewidth": 0,
              "ticks": ""
             }
            },
            "type": "scatterpolargl"
           }
          ],
          "scatterternary": [
           {
            "marker": {
             "colorbar": {
              "outlinewidth": 0,
              "ticks": ""
             }
            },
            "type": "scatterternary"
           }
          ],
          "surface": [
           {
            "colorbar": {
             "outlinewidth": 0,
             "ticks": ""
            },
            "colorscale": [
             [
              0,
              "#0d0887"
             ],
             [
              0.1111111111111111,
              "#46039f"
             ],
             [
              0.2222222222222222,
              "#7201a8"
             ],
             [
              0.3333333333333333,
              "#9c179e"
             ],
             [
              0.4444444444444444,
              "#bd3786"
             ],
             [
              0.5555555555555556,
              "#d8576b"
             ],
             [
              0.6666666666666666,
              "#ed7953"
             ],
             [
              0.7777777777777778,
              "#fb9f3a"
             ],
             [
              0.8888888888888888,
              "#fdca26"
             ],
             [
              1,
              "#f0f921"
             ]
            ],
            "type": "surface"
           }
          ],
          "table": [
           {
            "cells": {
             "fill": {
              "color": "#EBF0F8"
             },
             "line": {
              "color": "white"
             }
            },
            "header": {
             "fill": {
              "color": "#C8D4E3"
             },
             "line": {
              "color": "white"
             }
            },
            "type": "table"
           }
          ]
         },
         "layout": {
          "annotationdefaults": {
           "arrowcolor": "#2a3f5f",
           "arrowhead": 0,
           "arrowwidth": 1
          },
          "autotypenumbers": "strict",
          "coloraxis": {
           "colorbar": {
            "outlinewidth": 0,
            "ticks": ""
           }
          },
          "colorscale": {
           "diverging": [
            [
             0,
             "#8e0152"
            ],
            [
             0.1,
             "#c51b7d"
            ],
            [
             0.2,
             "#de77ae"
            ],
            [
             0.3,
             "#f1b6da"
            ],
            [
             0.4,
             "#fde0ef"
            ],
            [
             0.5,
             "#f7f7f7"
            ],
            [
             0.6,
             "#e6f5d0"
            ],
            [
             0.7,
             "#b8e186"
            ],
            [
             0.8,
             "#7fbc41"
            ],
            [
             0.9,
             "#4d9221"
            ],
            [
             1,
             "#276419"
            ]
           ],
           "sequential": [
            [
             0,
             "#0d0887"
            ],
            [
             0.1111111111111111,
             "#46039f"
            ],
            [
             0.2222222222222222,
             "#7201a8"
            ],
            [
             0.3333333333333333,
             "#9c179e"
            ],
            [
             0.4444444444444444,
             "#bd3786"
            ],
            [
             0.5555555555555556,
             "#d8576b"
            ],
            [
             0.6666666666666666,
             "#ed7953"
            ],
            [
             0.7777777777777778,
             "#fb9f3a"
            ],
            [
             0.8888888888888888,
             "#fdca26"
            ],
            [
             1,
             "#f0f921"
            ]
           ],
           "sequentialminus": [
            [
             0,
             "#0d0887"
            ],
            [
             0.1111111111111111,
             "#46039f"
            ],
            [
             0.2222222222222222,
             "#7201a8"
            ],
            [
             0.3333333333333333,
             "#9c179e"
            ],
            [
             0.4444444444444444,
             "#bd3786"
            ],
            [
             0.5555555555555556,
             "#d8576b"
            ],
            [
             0.6666666666666666,
             "#ed7953"
            ],
            [
             0.7777777777777778,
             "#fb9f3a"
            ],
            [
             0.8888888888888888,
             "#fdca26"
            ],
            [
             1,
             "#f0f921"
            ]
           ]
          },
          "colorway": [
           "#636efa",
           "#EF553B",
           "#00cc96",
           "#ab63fa",
           "#FFA15A",
           "#19d3f3",
           "#FF6692",
           "#B6E880",
           "#FF97FF",
           "#FECB52"
          ],
          "font": {
           "color": "#2a3f5f"
          },
          "geo": {
           "bgcolor": "white",
           "lakecolor": "white",
           "landcolor": "#E5ECF6",
           "showlakes": true,
           "showland": true,
           "subunitcolor": "white"
          },
          "hoverlabel": {
           "align": "left"
          },
          "hovermode": "closest",
          "mapbox": {
           "style": "light"
          },
          "paper_bgcolor": "white",
          "plot_bgcolor": "#E5ECF6",
          "polar": {
           "angularaxis": {
            "gridcolor": "white",
            "linecolor": "white",
            "ticks": ""
           },
           "bgcolor": "#E5ECF6",
           "radialaxis": {
            "gridcolor": "white",
            "linecolor": "white",
            "ticks": ""
           }
          },
          "scene": {
           "xaxis": {
            "backgroundcolor": "#E5ECF6",
            "gridcolor": "white",
            "gridwidth": 2,
            "linecolor": "white",
            "showbackground": true,
            "ticks": "",
            "zerolinecolor": "white"
           },
           "yaxis": {
            "backgroundcolor": "#E5ECF6",
            "gridcolor": "white",
            "gridwidth": 2,
            "linecolor": "white",
            "showbackground": true,
            "ticks": "",
            "zerolinecolor": "white"
           },
           "zaxis": {
            "backgroundcolor": "#E5ECF6",
            "gridcolor": "white",
            "gridwidth": 2,
            "linecolor": "white",
            "showbackground": true,
            "ticks": "",
            "zerolinecolor": "white"
           }
          },
          "shapedefaults": {
           "line": {
            "color": "#2a3f5f"
           }
          },
          "ternary": {
           "aaxis": {
            "gridcolor": "white",
            "linecolor": "white",
            "ticks": ""
           },
           "baxis": {
            "gridcolor": "white",
            "linecolor": "white",
            "ticks": ""
           },
           "bgcolor": "#E5ECF6",
           "caxis": {
            "gridcolor": "white",
            "linecolor": "white",
            "ticks": ""
           }
          },
          "title": {
           "x": 0.05
          },
          "xaxis": {
           "automargin": true,
           "gridcolor": "white",
           "linecolor": "white",
           "ticks": "",
           "title": {
            "standoff": 15
           },
           "zerolinecolor": "white",
           "zerolinewidth": 2
          },
          "yaxis": {
           "automargin": true,
           "gridcolor": "white",
           "linecolor": "white",
           "ticks": "",
           "title": {
            "standoff": 15
           },
           "zerolinecolor": "white",
           "zerolinewidth": 2
          }
         }
        },
        "width": 700
       }
      }
     },
     "metadata": {},
     "output_type": "display_data"
    }
   ],
   "source": [
    "def get_recommendations(id):\n",
    "    idx = userDF.index[userDF['id'] == id][0]\n",
    "    query = userDF['topics'][idx]\n",
    "    query = dictionary.doc2bow(query)\n",
    "    return userDF.iloc[[i[0] for i in model[query]]]    \n",
    "    \n",
    "import plotly.graph_objects as go\n",
    "    \n",
    "#remove chosen user from recommendations\n",
    "recs = get_recommendations(chosenId)\n",
    "recs = recs[recs['id'] != chosenId]    \n",
    "\n",
    "#get similar users with get_recommendations(id), plot a graph with each similar user and list of topics they have in common with the chosen user\n",
    "#convert topics column to string\n",
    "def plot_topics(id, recs):\n",
    "    fig = go.Figure(go.Table(\n",
    "        header=dict(values=['User', 'Similar Topics'],\n",
    "                    fill_color='paleturquoise',\n",
    "                    align='left'),\n",
    "        cells=dict(values=[recs['user'], recs['_topics'].apply(lambda x: ', '.join(set(x).intersection(set(userDF['_topics'][userDF['id'] == id].sum()))))],\n",
    "                        fill_color='lavender',\n",
    "                        align='left')))\n",
    "    fig.update_layout(width=700, height=1000)\n",
    "    fig.show()\n",
    "\n",
    "#plot a chart showing each user and the number of similar topics they have to the chosen user\n",
    "#make table width fit to content\n",
    "def plot_users(id, recs):\n",
    "    fig = go.Figure(go.Table(\n",
    "        header=dict(values=['User', 'Similar Topics'],\n",
    "                    fill_color='paleturquoise',\n",
    "                    align='left'),\n",
    "        cells=dict(values=[recs['user'], recs['_topics'].apply(lambda x: len(set(x).intersection(set(userDF['_topics'][userDF['id'] == id].sum()))))],\n",
    "                     fill_color='lavender',\n",
    "                        align='left')))\n",
    "    fig.update_layout(width=500, height=500)\n",
    "    fig.show()\n",
    "        \n",
    "plot_users(chosenId, recs)\n",
    "plot_topics(chosenId, recs)"
   ]
  }
 ],
 "metadata": {
  "kernelspec": {
   "display_name": "Python 3",
   "language": "python",
   "name": "python3"
  },
  "language_info": {
   "codemirror_mode": {
    "name": "ipython",
    "version": 3
   },
   "file_extension": ".py",
   "mimetype": "text/x-python",
   "name": "python",
   "nbconvert_exporter": "python",
   "pygments_lexer": "ipython3",
   "version": "3.10.11"
  },
  "orig_nbformat": 4,
  "vscode": {
   "interpreter": {
    "hash": "624741679a3ae5d99cecf49b8df5d516a7a937e6e7328e129d1fa121c8592e26"
   }
  }
 },
 "nbformat": 4,
 "nbformat_minor": 2
}
